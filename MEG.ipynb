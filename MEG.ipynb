{
 "cells": [
  {
   "cell_type": "code",
   "execution_count": null,
   "metadata": {},
   "outputs": [],
   "source": [
    "#Data downloaded from https://www.kaggle.com/c/decoding-the-human-brain/data"
   ]
  },
  {
   "cell_type": "code",
   "execution_count": 18,
   "metadata": {},
   "outputs": [],
   "source": [
    "import numpy as np\n",
    "from scipy.io import loadmat\n",
    "import matplotlib.pyplot as plt"
   ]
  },
  {
   "cell_type": "code",
   "execution_count": 3,
   "metadata": {},
   "outputs": [],
   "source": [
    "X=loadmat('C:/Users/koester_lab/Documents/Maria/EEG/data/train_subject01.mat')['X']\n",
    "y=loadmat('C:/Users/koester_lab/Documents/Maria/EEG/data/train_subject01.mat')['y']"
   ]
  },
  {
   "cell_type": "code",
   "execution_count": 4,
   "metadata": {},
   "outputs": [],
   "source": [
    "X_fft=np.fft.fft(X)"
   ]
  },
  {
   "cell_type": "code",
   "execution_count": 10,
   "metadata": {},
   "outputs": [],
   "source": [
    "from sklearn.model_selection import train_test_split\n",
    "train_X,test_X,train_y,test_y=train_test_split(X_fft,y,test_size=0.33, random_state=42)\n",
    "\n",
    "train_y=train_y.flatten()\n",
    "test_y=test_y.flatten()\n",
    "scramble_X_train=train_X[train_y==0]\n",
    "face_X_train=train_X[train_y==1]"
   ]
  },
  {
   "cell_type": "code",
   "execution_count": 57,
   "metadata": {},
   "outputs": [
    {
     "name": "stdout",
     "output_type": "stream",
     "text": [
      "[3.73272699e-01 2.88713603e-01 1.36681333e-01 4.96329570e-02\n",
      " 3.41021725e-02 1.52839918e-02 1.23900077e-02 8.98109977e-03\n",
      " 7.46813105e-03 5.14333210e-03 4.96114136e-03 3.85284453e-03\n",
      " 3.39656174e-03 2.64311337e-03 2.41497313e-03 2.10717419e-03\n",
      " 1.99470818e-03 1.83823381e-03 1.79924027e-03 1.56516522e-03\n",
      " 1.44293206e-03 1.34592424e-03 1.18621981e-03 1.14659148e-03\n",
      " 1.08236949e-03 1.06475446e-03 9.68063867e-04 9.50354862e-04\n",
      " 8.68462982e-04 8.44629688e-04 8.34830433e-04 7.97956976e-04\n",
      " 7.91686818e-04 7.81016719e-04 7.24832876e-04 7.18968708e-04\n",
      " 6.88919720e-04 6.75086587e-04 6.56486442e-04 6.27586195e-04\n",
      " 6.09350419e-04 5.94460592e-04 5.77605962e-04 5.67469444e-04\n",
      " 5.46605402e-04 5.25190439e-04 5.09836024e-04 4.92860987e-04\n",
      " 4.83451302e-04 4.76258788e-04 4.70226546e-04 4.58754094e-04\n",
      " 4.48291121e-04 4.43536400e-04 4.31430988e-04 4.09023794e-04\n",
      " 4.04797337e-04 3.92686794e-04 3.87766240e-04 3.75077544e-04\n",
      " 3.72657971e-04 3.67745241e-04 3.59332349e-04 3.44870221e-04\n",
      " 3.38928998e-04 3.34920920e-04 3.28835206e-04 3.19956075e-04\n",
      " 3.14018491e-04 3.02369535e-04 3.00540487e-04 2.90839284e-04\n",
      " 2.81106525e-04 2.75290396e-04 2.65784784e-04 2.63326942e-04\n",
      " 2.53210509e-04 2.45908230e-04 2.40660007e-04 2.34307745e-04\n",
      " 2.32095527e-04 2.26436965e-04 2.24588016e-04 2.19183684e-04\n",
      " 2.12751442e-04 2.08174795e-04 2.00898806e-04 1.96714838e-04\n",
      " 1.92464944e-04 1.90018114e-04 1.87437347e-04 1.83522386e-04\n",
      " 1.77040227e-04 1.72455666e-04 1.69687568e-04 1.62347581e-04\n",
      " 1.58470798e-04 1.53309134e-04 1.47788255e-04 1.45935537e-04]\n",
      "0.9958407686988985\n"
     ]
    }
   ],
   "source": [
    "from sklearn.decomposition import PCA\n",
    "\n",
    "\n",
    "pca_scramble=PCA(n_components=100)\n",
    "pcs_scramble=pca_scramble.fit_transform(np.mean(scramble_X_train[:,:,:],axis=0).T.real)\n",
    "print(pca_scramble.explained_variance_ratio_)\n",
    "print(np.sum(pca_scramble.explained_variance_ratio_))"
   ]
  },
  {
   "cell_type": "code",
   "execution_count": 54,
   "metadata": {
    "scrolled": true
   },
   "outputs": [
    {
     "name": "stdout",
     "output_type": "stream",
     "text": [
      "[4.78737498e-01 1.69462019e-01 8.05902317e-02 6.38765763e-02\n",
      " 3.35837713e-02 1.86805092e-02 1.59262713e-02 1.47333153e-02\n",
      " 9.79744905e-03 8.41412244e-03 7.30841321e-03 5.48126758e-03\n",
      " 4.99935215e-03 4.68747341e-03 4.48223804e-03 3.92033606e-03\n",
      " 3.75053407e-03 2.96689503e-03 2.70008602e-03 2.51787364e-03\n",
      " 2.01024475e-03 1.98266737e-03 1.94186910e-03 1.79459582e-03\n",
      " 1.65243033e-03 1.58359286e-03 1.46120040e-03 1.42957967e-03\n",
      " 1.31799193e-03 1.28042208e-03 1.22036567e-03 1.20079068e-03\n",
      " 1.18946212e-03 1.13030034e-03 1.09957493e-03 1.06644756e-03\n",
      " 1.04511689e-03 1.00991685e-03 9.68318711e-04 9.23471373e-04\n",
      " 8.96561359e-04 8.69291737e-04 8.50356476e-04 8.41515852e-04\n",
      " 8.14510368e-04 8.06163557e-04 7.70882530e-04 7.65101577e-04\n",
      " 7.51158973e-04 7.20716300e-04 7.05756531e-04 6.90963871e-04\n",
      " 6.81878832e-04 6.67695913e-04 6.52239435e-04 6.45737549e-04\n",
      " 6.38981473e-04 6.24732647e-04 5.89770399e-04 5.83050706e-04\n",
      " 5.73230601e-04 5.41890670e-04 5.39704760e-04 5.21280272e-04\n",
      " 5.18683214e-04 5.17083957e-04 4.94164362e-04 4.92167042e-04\n",
      " 4.74040513e-04 4.70399827e-04 4.59747164e-04 4.48462298e-04\n",
      " 4.35699219e-04 4.31328166e-04 4.19934035e-04 4.05762717e-04\n",
      " 3.92118866e-04 3.87988105e-04 3.82953320e-04 3.80218151e-04\n",
      " 3.67188349e-04 3.50064334e-04 3.38040546e-04 3.32664484e-04\n",
      " 3.31023516e-04 3.21366234e-04 3.10635817e-04 2.95992633e-04\n",
      " 2.94025568e-04 2.87482669e-04 2.82575602e-04 2.75254645e-04\n",
      " 2.68864960e-04 2.59237593e-04 2.53069946e-04 2.48473329e-04\n",
      " 2.44479301e-04 2.37404610e-04 2.33300939e-04 2.26514727e-04]\n",
      "0.9935361746797192\n"
     ]
    }
   ],
   "source": [
    "\n",
    "pca_face=PCA(n_components=100)\n",
    "pcs_face=pca_face.fit_transform(np.mean(face_X_train[:,:,:],axis=0).T.real)\n",
    "print(pca_face.explained_variance_ratio_)\n",
    "print(np.sum(pca_face.explained_variance_ratio_))"
   ]
  },
  {
   "cell_type": "code",
   "execution_count": null,
   "metadata": {},
   "outputs": [],
   "source": []
  },
  {
   "cell_type": "code",
   "execution_count": 16,
   "metadata": {
    "scrolled": true
   },
   "outputs": [
    {
     "name": "stdout",
     "output_type": "stream",
     "text": [
      "(375, 10)\n"
     ]
    }
   ],
   "source": [
    "print(pcs_face.shape)"
   ]
  },
  {
   "cell_type": "code",
   "execution_count": 55,
   "metadata": {
    "scrolled": false
   },
   "outputs": [
    {
     "data": {
      "text/plain": [
       "<matplotlib.legend.Legend at 0x2081f4944c0>"
      ]
     },
     "execution_count": 55,
     "metadata": {},
     "output_type": "execute_result"
    },
    {
     "data": {
      "image/png": "[encoded data removed]",
      "text/plain": [
       "<Figure size 432x288 with 1 Axes>"
      ]
     },
     "metadata": {
      "needs_background": "light"
     },
     "output_type": "display_data"
    }
   ],
   "source": [
    "plt.plot(pcs_face[:,0],label='face')\n",
    "plt.plot(pcs_scramble[:,0],label='scramble')\n",
    "plt.legend()"
   ]
  },
  {
   "cell_type": "code",
   "execution_count": 115,
   "metadata": {
    "scrolled": true
   },
   "outputs": [
    {
     "data": {
      "text/plain": [
       "\"\\nfor j in range(0,100):\\n    print(j)\\n    plt.plot(pcs_face[:,j],label='face')\\n    plt.plot(pcs_scramble[:,j],label='scramble')\\n    plt.legend()\\n    plt.show()\\n    print(np.corrcoef(pcs_face[:,j],pcs_scramble[:,j])[0,1])\\n\""
      ]
     },
     "execution_count": 115,
     "metadata": {},
     "output_type": "execute_result"
    }
   ],
   "source": [
    "'''\n",
    "for j in range(0,100):\n",
    "    print(j)\n",
    "    plt.plot(pcs_face[:,j],label='face')\n",
    "    plt.plot(pcs_scramble[:,j],label='scramble')\n",
    "    plt.legend()\n",
    "    plt.show()\n",
    "    print(np.corrcoef(pcs_face[:,j],pcs_scramble[:,j])[0,1])\n",
    "'''"
   ]
  },
  {
   "cell_type": "code",
   "execution_count": 64,
   "metadata": {},
   "outputs": [
    {
     "name": "stdout",
     "output_type": "stream",
     "text": [
      "(375, 100)\n"
     ]
    }
   ],
   "source": [
    "print(pcs_scramble.shape)"
   ]
  },
  {
   "cell_type": "code",
   "execution_count": 67,
   "metadata": {},
   "outputs": [
    {
     "name": "stdout",
     "output_type": "stream",
     "text": [
      "(375, 100)\n"
     ]
    }
   ],
   "source": [
    "face_t=pca_face.transform(test_X[j,:,:].T.real)\n",
    "print(face_t.shape)"
   ]
  },
  {
   "cell_type": "code",
   "execution_count": 116,
   "metadata": {},
   "outputs": [],
   "source": [
    "transformed_ts_test=[]\n",
    "acc_lst=[]\n",
    "for j in range(test_X.shape[0]):\n",
    "    face_t=pca_face.transform(test_X[j,:,:].T.real)\n",
    "    face_dot=np.sum(np.diag(np.dot(face_t.T,pcs_face)))\n",
    "    scramble_t=pca_scramble.transform(test_X[j,:,:].T.real)\n",
    "    scramble_dot=np.sum(np.diag(np.dot(scramble_t.T,pcs_scramble)))\n",
    "    comp=[scramble_dot,face_dot]\n",
    "    ind=np.argmax(comp)\n",
    "    '''\n",
    "    for i in range(0,10):\n",
    "        print(i)\n",
    "        print('label:',test_y[j])\n",
    "        plt.plot(face_t[:,i],label='face test vector')\n",
    "        plt.plot(pcs_face[:,i],label='face protototype')\n",
    "        plt.legend()\n",
    "        plt.show()\n",
    "        print('label: ', test_y[j])\n",
    "        plt.plot(scramble_t[:,i],label='scramble test vector')\n",
    "        plt.plot(pcs_scramble[:,i],label='scramble prototype')\n",
    "        plt.legend()\n",
    "        plt.show()\n",
    "    '''"
   ]
  },
  {
   "cell_type": "code",
   "execution_count": 51,
   "metadata": {
    "scrolled": false
   },
   "outputs": [
    {
     "name": "stdout",
     "output_type": "stream",
     "text": [
      "[1, 1, 1, 1, 1, 0, 0, 1, 1, 1, 0, 0, 1, 0, 1, 1, 0, 0, 0, 1, 1, 1, 1, 0, 1, 0, 0, 1, 0, 0, 1, 0, 1, 0, 1, 0, 1, 0, 1, 0, 0, 1, 1, 1, 0, 0, 1, 1, 0, 1, 0, 1, 1, 1, 1, 0, 1, 0, 1, 1, 0, 0, 1, 0, 1, 1, 0, 0, 1, 0, 1, 1, 0, 0, 1, 0, 1, 0, 0, 0, 0, 0, 1, 1, 0, 0, 1, 1, 0, 1, 1, 1, 1, 0, 1, 0, 1, 1, 0, 1, 1, 0, 0, 0, 1, 1, 1, 1, 0, 0, 1, 0, 1, 0, 1, 0, 1, 1, 1, 1, 0, 1, 1, 1, 0, 1, 0, 0, 0, 1, 1, 0, 0, 0, 1, 1, 0, 0, 1, 1, 0, 0, 0, 1, 1, 1, 0, 1, 0, 1, 0, 1, 1, 0, 1, 0, 1, 0, 0, 1, 1, 1, 0, 0, 0, 0, 1, 0, 1, 0, 1, 1, 0, 1, 0, 0, 0, 0, 1, 1, 1, 1, 0, 1, 1, 1, 1, 1, 1, 1, 0, 1, 1, 0, 1, 1, 0]\n"
     ]
    }
   ],
   "source": [
    "print(acc_lst)"
   ]
  },
  {
   "cell_type": "code",
   "execution_count": 46,
   "metadata": {
    "scrolled": true
   },
   "outputs": [
    {
     "name": "stdout",
     "output_type": "stream",
     "text": [
      "[1 0 1 1 0 0 0 1 0 1 0 0 1 0 0 0 1 0 0 0 0 0 1 1 1 0 1 0 0 1 0 1 1 1 1 1 0\n",
      " 0 1 1 0 0 0 1 1 0 1 1 1 1 1 1 1 0 1 0 0 0 0 0 0 0 1 1 0 1 1 1 1 1 0 1 0 1\n",
      " 0 0 1 0 0 1 1 1 1 0 1 0 0 1 0 0 1 1 0 1 1 0 1 0 1 0 1 0 0 0 0 1 1 0 1 1 0\n",
      " 0 0 0 1 1 1 1 0 1 0 1 0 0 0 1 1 0 1 0 1 1 0 1 1 1 1 0 1 1 1 1 1 0 1 0 0 0\n",
      " 1 1 1 0 1 1 0 0 0 1 1 0 0 1 0 0 1 1 1 1 1 0 1 1 0 0 1 0 0 0 0 1 0 1 0 1 1\n",
      " 0 1 0 1 0 1 1 1 1 1 1 1]\n"
     ]
    }
   ],
   "source": [
    "print(test_y)"
   ]
  },
  {
   "cell_type": "code",
   "execution_count": 52,
   "metadata": {
    "scrolled": false
   },
   "outputs": [
    {
     "name": "stdout",
     "output_type": "stream",
     "text": [
      "0.5279187817258884\n"
     ]
    }
   ],
   "source": [
    "print(np.sum(acc_lst==test_y)/test_y.shape[0])"
   ]
  },
  {
   "cell_type": "code",
   "execution_count": null,
   "metadata": {},
   "outputs": [],
   "source": [
    "transformed_ts_test=[]\n",
    "acc_lst=[]\n",
    "for j in range(test_X.shape[0]):\n",
    "    face_t=pca_face.transform(test_X[j,:,:].T.real)\n",
    "    face_dot=np.sum(np.diag(np.dot(face_t.T,pcs_face)))\n",
    "    scramble_t=pca_scramble.transform(test_X[j,:,:].T.real)\n",
    "    scramble_dot=np.sum(np.diag(np.dot(scramble_t.T,pcs_scramble)))\n",
    "    comp=[scramble_dot,face_dot]\n",
    "    ind=np.argmax(comp)\n",
    "    acc_lst.append(ind)"
   ]
  },
  {
   "cell_type": "code",
   "execution_count": 114,
   "metadata": {},
   "outputs": [],
   "source": [
    "transformed_ts_test=[]\n",
    "acc_lst=[]\n",
    "for j in range(test_X.shape[0]):\n",
    "    face_t=pca_face.transform(test_X[j,:,:].T.real)\n",
    "    face_norm=[]\n",
    "    for z in range(0,100):\n",
    "        face_peaks=list(np.sort(np.argsort(np.abs(face_t[:,z]))[-10:]))#.sort()\n",
    "        #print(face_peaks)\n",
    "        face_pcs_peaks=list(np.sort(np.argsort(np.abs(pcs_face[:,z]))[-10:]))\n",
    "        #print(face_pcs_peaks)\n",
    "        h=len([1 for x in face_pcs_peaks if x in face_peaks])\n",
    "    face_dist=np.sum(h)\n",
    "    scramble_t=pca_scramble.transform(test_X[j,:,:].T.real)\n",
    "    scramble_norm=[]\n",
    "    for z in range(0,100):\n",
    "        scramble_peaks=list(np.sort(np.argsort(scramble_t[:,z])[-10:]))\n",
    "        scramble_pcs_peaks=list(np.sort(np.argsort(np.abs(pcs_scramble[:,z]))[-10:]))\n",
    "        h=len([1 for x in scramble_pcs_peaks if x in scramble_peaks])\n",
    "    face_dist=np.sum(h)\n",
    "    comp=[scramble_dist,face_dist]\n",
    "    ind=np.argmax(comp)\n",
    "    acc_lst.append(ind)"
   ]
  },
  {
   "cell_type": "code",
   "execution_count": null,
   "metadata": {},
   "outputs": [],
   "source": []
  },
  {
   "cell_type": "code",
   "execution_count": 111,
   "metadata": {},
   "outputs": [
    {
     "name": "stdout",
     "output_type": "stream",
     "text": [
      "0.4619289340101523\n"
     ]
    }
   ],
   "source": [
    "print(np.sum(acc_lst==test_y)/test_y.shape[0])"
   ]
  }
 ],
 "metadata": {
  "kernelspec": {
   "display_name": "Python 3",
   "language": "python",
   "name": "python3"
  },
  "language_info": {
   "codemirror_mode": {
    "name": "ipython",
    "version": 3
   },
   "file_extension": ".py",
   "mimetype": "text/x-python",
   "name": "python",
   "nbconvert_exporter": "python",
   "pygments_lexer": "ipython3",
   "version": "3.8.3"
  }
 },
 "nbformat": 4,
 "nbformat_minor": 4
}

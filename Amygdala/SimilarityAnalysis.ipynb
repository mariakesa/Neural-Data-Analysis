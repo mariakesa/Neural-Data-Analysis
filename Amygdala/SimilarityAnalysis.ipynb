{
 "cells": [
  {
   "cell_type": "code",
   "execution_count": 1,
   "metadata": {},
   "outputs": [],
   "source": [
    "from scipy import io\n",
    "import numpy as np"
   ]
  },
  {
   "cell_type": "code",
   "execution_count": 2,
   "metadata": {},
   "outputs": [],
   "source": [
    "all_dat=io.loadmat('/media/maria/DATA1/Documents/old_docs/Amygdala/data_Fustinana_etal_2021.mat')\n",
    "dat_mouse1=all_dat['data'][0][0][2][0][0][0][0][0][0]\n",
    "dat_mouse2=all_dat['data'][0][0][3][0][0][0][0][0][0]"
   ]
  },
  {
   "cell_type": "code",
   "execution_count": 3,
   "metadata": {},
   "outputs": [
    {
     "name": "stdout",
     "output_type": "stream",
     "text": [
      "(13804, 90)\n",
      "(13808, 69)\n"
     ]
    }
   ],
   "source": [
    "print(dat_mouse1.shape)\n",
    "print(dat_mouse2.shape)"
   ]
  },
  {
   "cell_type": "code",
   "execution_count": 4,
   "metadata": {},
   "outputs": [
    {
     "name": "stdout",
     "output_type": "stream",
     "text": [
      "1.2789410254887954\n"
     ]
    }
   ],
   "source": [
    "from netrep.metrics import LinearMetric\n",
    "\n",
    "# Rotationally invariant metric (fully regularized).\n",
    "metric = LinearMetric(alpha=1.0, center_columns=True,zero_pad=True)\n",
    "metric.fit(dat_mouse1, dat_mouse2[:13804,:])\n",
    "\n",
    "# Evaluate distance between X and Y, using alignments fit above.\n",
    "dist = metric.score(dat_mouse1, dat_mouse2[:13804,:])\n",
    "print(dist)"
   ]
  },
  {
   "cell_type": "code",
   "execution_count": 5,
   "metadata": {
    "scrolled": true
   },
   "outputs": [
    {
     "name": "stdout",
     "output_type": "stream",
     "text": [
      "10\n"
     ]
    }
   ],
   "source": [
    "shp_lst=[]\n",
    "for j in range(2,12):\n",
    "    shp_lst.append(all_dat['data'][0][0][j][0][0][0][0][0][0].shape)\n",
    "print(len(shp_lst))"
   ]
  },
  {
   "cell_type": "code",
   "execution_count": 6,
   "metadata": {},
   "outputs": [],
   "source": [
    "dat_lst=[]\n",
    "for j in range(2,12):\n",
    "    dat_lst.append(all_dat['data'][0][0][j][0][0][0][0][0][0][:13681,:])"
   ]
  },
  {
   "cell_type": "code",
   "execution_count": 7,
   "metadata": {},
   "outputs": [],
   "source": [
    "from netrep.multiset import pairwise_distances"
   ]
  },
  {
   "cell_type": "code",
   "execution_count": 15,
   "metadata": {},
   "outputs": [],
   "source": [
    "metric = LinearMetric(alpha=0, center_columns=True,zero_pad=True)\n",
    "dist_matrix = pairwise_distances(metric, dat_lst, verbose=False)"
   ]
  },
  {
   "cell_type": "code",
   "execution_count": 16,
   "metadata": {
    "scrolled": true
   },
   "outputs": [
    {
     "data": {
      "text/plain": [
       "<matplotlib.axes._subplots.AxesSubplot at 0x7febbcecaa90>"
      ]
     },
     "execution_count": 16,
     "metadata": {},
     "output_type": "execute_result"
    },
    {
     "data": {
      "image/png": "[encoded data removed]",
      "text/plain": [
       "<Figure size 432x288 with 2 Axes>"
      ]
     },
     "metadata": {
      "needs_background": "light"
     },
     "output_type": "display_data"
    }
   ],
   "source": [
    "import seaborn as sns\n",
    "\n",
    "sns.heatmap(dist_matrix)"
   ]
  },
  {
   "cell_type": "code",
   "execution_count": 10,
   "metadata": {},
   "outputs": [
    {
     "name": "stdout",
     "output_type": "stream",
     "text": [
      "[[0.         1.27624171 1.28354966 1.24302193 1.30682681 1.22107021\n",
      "  1.28245251 1.25428433 1.2585167  1.30184529]\n",
      " [1.27624171 0.         1.29776304 1.28127525 1.34379741 1.27074878\n",
      "  1.31271231 1.28162531 1.31060984 1.32676786]\n",
      " [1.28354966 1.29776304 0.         1.26761457 1.32933658 1.27330489\n",
      "  1.29294425 1.28581299 1.31875019 1.32898784]\n",
      " [1.24302193 1.28127525 1.26761457 0.         1.30972665 1.23730858\n",
      "  1.29321547 1.27037027 1.29288051 1.31760641]\n",
      " [1.30682681 1.34379741 1.32933658 1.30972665 0.         1.29620059\n",
      "  1.33297671 1.32956173 1.31455772 1.33623698]\n",
      " [1.22107021 1.27074878 1.27330489 1.23730858 1.29620059 0.\n",
      "  1.26507873 1.24702914 1.25219653 1.30081915]\n",
      " [1.28245251 1.31271231 1.29294425 1.29321547 1.33297671 1.26507873\n",
      "  0.         1.284231   1.30897981 1.32940625]\n",
      " [1.25428433 1.28162531 1.28581299 1.27037027 1.32956173 1.24702914\n",
      "  1.284231   0.         1.30004529 1.31906448]\n",
      " [1.2585167  1.31060984 1.31875019 1.29288051 1.31455772 1.25219653\n",
      "  1.30897981 1.30004529 0.         1.3263473 ]\n",
      " [1.30184529 1.32676786 1.32898784 1.31760641 1.33623698 1.30081915\n",
      "  1.32940625 1.31906448 1.3263473  0.        ]]\n"
     ]
    }
   ],
   "source": [
    "print(dist_matrix)"
   ]
  }
 ],
 "metadata": {
  "kernelspec": {
   "display_name": "Python 3",
   "language": "python",
   "name": "python3"
  },
  "language_info": {
   "codemirror_mode": {
    "name": "ipython",
    "version": 3
   },
   "file_extension": ".py",
   "mimetype": "text/x-python",
   "name": "python",
   "nbconvert_exporter": "python",
   "pygments_lexer": "ipython3",
   "version": "3.7.7"
  }
 },
 "nbformat": 4,
 "nbformat_minor": 4
}

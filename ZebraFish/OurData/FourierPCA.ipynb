{
 "cells": [
  {
   "cell_type": "code",
   "execution_count": 2,
   "metadata": {},
   "outputs": [],
   "source": [
    "import numpy as np"
   ]
  },
  {
   "cell_type": "code",
   "execution_count": 15,
   "metadata": {},
   "outputs": [],
   "source": [
    "dat=np.load('//ZMN-HIVE/User-Data/Maria/segmented/fish20_6dpf_medium_masked_traces.npy')"
   ]
  },
  {
   "cell_type": "code",
   "execution_count": 4,
   "metadata": {
    "scrolled": true
   },
   "outputs": [
    {
     "name": "stdout",
     "output_type": "stream",
     "text": [
      "(37977, 1800)\n"
     ]
    }
   ],
   "source": [
    "print(dat.shape)"
   ]
  },
  {
   "cell_type": "code",
   "execution_count": 7,
   "metadata": {},
   "outputs": [],
   "source": [
    "dat_fft=np.fft.fft(dat).real"
   ]
  },
  {
   "cell_type": "code",
   "execution_count": 8,
   "metadata": {},
   "outputs": [],
   "source": [
    "from sklearn.decomposition import PCA\n",
    "\n",
    "pca=PCA(n_components=10)\n",
    "pcs=pca.fit_transform(dat_fft.T)"
   ]
  },
  {
   "cell_type": "code",
   "execution_count": 11,
   "metadata": {
    "scrolled": true
   },
   "outputs": [
    {
     "data": {
      "text/plain": [
       "[<matplotlib.lines.Line2D at 0x20780c25700>]"
      ]
     },
     "execution_count": 11,
     "metadata": {},
     "output_type": "execute_result"
    },
    {
     "data": {
      "image/png": "[encoded data removed]",
      "text/plain": [
       "<Figure size 432x288 with 1 Axes>"
      ]
     },
     "metadata": {
      "needs_background": "light"
     },
     "output_type": "display_data"
    }
   ],
   "source": [
    "import matplotlib.pyplot as plt\n",
    "plt.plot(pcs[1:500,1])"
   ]
  },
  {
   "cell_type": "code",
   "execution_count": 12,
   "metadata": {
    "scrolled": true
   },
   "outputs": [
    {
     "data": {
      "text/plain": [
       "array([9.94535245e-01, 7.88881237e-04, 7.80960014e-04, 3.65507488e-04,\n",
       "       2.51403220e-04, 1.36174905e-04, 1.26894769e-04, 1.16911073e-04,\n",
       "       1.04006971e-04, 9.71917447e-05])"
      ]
     },
     "execution_count": 12,
     "metadata": {},
     "output_type": "execute_result"
    }
   ],
   "source": [
    "pca.explained_variance_ratio_"
   ]
  },
  {
   "cell_type": "code",
   "execution_count": 48,
   "metadata": {},
   "outputs": [],
   "source": [
    "#Regression\n",
    "rois=np.load('//ZMN-HIVE/User-Data/Maria/segmented/fish20_6dpf_medium_masked_rois.npy')[:,:3]"
   ]
  },
  {
   "cell_type": "code",
   "execution_count": 22,
   "metadata": {
    "scrolled": true
   },
   "outputs": [
    {
     "name": "stdout",
     "output_type": "stream",
     "text": [
      "(37977, 3)\n"
     ]
    }
   ],
   "source": [
    "print(rois.shape)"
   ]
  },
  {
   "cell_type": "code",
   "execution_count": 50,
   "metadata": {},
   "outputs": [
    {
     "name": "stdout",
     "output_type": "stream",
     "text": [
      "(25444, 1800)\n",
      "(25444, 3)\n",
      "0.4578679160394259\n",
      "0.4578679240355188\n"
     ]
    }
   ],
   "source": [
    "from sklearn.linear_model import LinearRegression\n",
    "from sklearn.model_selection import train_test_split\n",
    "x_train,x_test,y_train,y_test=train_test_split(dat_fft,rois,test_size=0.33, random_state=42)\n",
    "print(x_train.shape)\n",
    "print(y_train.shape)\n",
    "lin=LinearRegression().fit(x_train,y_train)\n",
    "print(lin.score(x_test,y_test))\n",
    "from sklearn.linear_model import Ridge\n",
    "ridge=Ridge(alpha=1000.0).fit(x_train,y_train)\n",
    "print(ridge.score(x_test,y_test))"
   ]
  },
  {
   "cell_type": "code",
   "execution_count": 49,
   "metadata": {},
   "outputs": [
    {
     "name": "stdout",
     "output_type": "stream",
     "text": [
      "(25444, 1800)\n",
      "(25444, 3)\n",
      "0.5158297146543069\n",
      "0.5158724720396547\n"
     ]
    }
   ],
   "source": [
    "from sklearn.linear_model import LinearRegression\n",
    "from sklearn.model_selection import train_test_split\n",
    "x_train,x_test,y_train,y_test=train_test_split(dat,rois,test_size=0.33, random_state=42)\n",
    "print(x_train.shape)\n",
    "print(y_train.shape)\n",
    "lin=LinearRegression().fit(x_train,y_train)\n",
    "print(lin.score(x_test,y_test))\n",
    "from sklearn.linear_model import Ridge\n",
    "ridge=Ridge(alpha=1000.0).fit(x_train,y_train)\n",
    "print(ridge.score(x_test,y_test))"
   ]
  }
 ],
 "metadata": {
  "kernelspec": {
   "display_name": "Python 3",
   "language": "python",
   "name": "python3"
  },
  "language_info": {
   "codemirror_mode": {
    "name": "ipython",
    "version": 3
   },
   "file_extension": ".py",
   "mimetype": "text/x-python",
   "name": "python",
   "nbconvert_exporter": "python",
   "pygments_lexer": "ipython3",
   "version": "3.8.3"
  }
 },
 "nbformat": 4,
 "nbformat_minor": 4
}

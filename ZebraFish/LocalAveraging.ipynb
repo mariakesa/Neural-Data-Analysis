{
 "cells": [
  {
   "cell_type": "code",
   "execution_count": 1,
   "metadata": {},
   "outputs": [],
   "source": [
    "import numpy as np\n",
    "from scipy.io import loadmat\n",
    "import h5py\n",
    "import matplotlib.pyplot as plt\n",
    "%matplotlib inline"
   ]
  },
  {
   "cell_type": "code",
   "execution_count": 2,
   "metadata": {},
   "outputs": [],
   "source": [
    "hf = h5py.File('/media/maria/DATA1/Documents/ZebraFish/subject_1/TimeSeries.h5', 'r')\n",
    "#print(hf['absIx'])\n",
    "neural_dat=np.array(hf['CellResp'])\n",
    "del hf"
   ]
  },
  {
   "cell_type": "code",
   "execution_count": 3,
   "metadata": {},
   "outputs": [],
   "source": [
    "regressors=loadmat('/media/maria/DATA1/Documents/ZebraFish/subject_1/data_full.mat')\n",
    "cell_pos=regressors['data']['CellXYZ'][0][0]\n",
    "missing_values=regressors['data']['IX_inval_anat'][0][0]\n",
    "cell_pos=np.delete(cell_pos,missing_values,axis=0)"
   ]
  },
  {
   "cell_type": "code",
   "execution_count": 4,
   "metadata": {
    "scrolled": false
   },
   "outputs": [
    {
     "name": "stdout",
     "output_type": "stream",
     "text": [
      "[[1163 1013    1]\n",
      " [1140 1009    1]\n",
      " [1102 1007    1]\n",
      " ...\n",
      " [1044  276   29]\n",
      " [ 948  271   29]\n",
      " [1018  268   29]]\n"
     ]
    }
   ],
   "source": [
    "print(cell_pos)"
   ]
  },
  {
   "cell_type": "code",
   "execution_count": 20,
   "metadata": {},
   "outputs": [],
   "source": [
    "def circle(center_x,center_y,radius,h,k):\n",
    "    within_circle=radius>np.sqrt((center_x-h)**2+(center_y-k)**2)\n",
    "    #print(within_circle)\n",
    "    return within_circle"
   ]
  },
  {
   "cell_type": "code",
   "execution_count": 23,
   "metadata": {},
   "outputs": [
    {
     "name": "stderr",
     "output_type": "stream",
     "text": [
      "/home/maria/anaconda3/lib/python3.7/site-packages/ipykernel_launcher.py:2: RuntimeWarning: overflow encountered in ushort_scalars\n",
      "  \n"
     ]
    },
    {
     "name": "stdout",
     "output_type": "stream",
     "text": [
      "162\n"
     ]
    }
   ],
   "source": [
    "center_x=cell_pos[100][0]\n",
    "center_y=cell_pos[100][0]\n",
    "\n",
    "boolean_arr=[]\n",
    "for j in range(0,83205):\n",
    "    boolean_ind=circle(center_x,center_y,100,cell_pos[j][0],cell_pos[j][1])\n",
    "    boolean_arr.append(boolean_ind)\n",
    "print(sum(boolean_arr))"
   ]
  },
  {
   "cell_type": "code",
   "execution_count": 15,
   "metadata": {
    "scrolled": true
   },
   "outputs": [
    {
     "name": "stdout",
     "output_type": "stream",
     "text": [
      "(83205, 3)\n"
     ]
    }
   ],
   "source": [
    "print(cell_pos.shape)"
   ]
  },
  {
   "cell_type": "code",
   "execution_count": 24,
   "metadata": {},
   "outputs": [],
   "source": [
    "selected_cells=neural_dat[:,boolean_arr]"
   ]
  },
  {
   "cell_type": "code",
   "execution_count": null,
   "metadata": {},
   "outputs": [],
   "source": [
    "plt.plot(np.mean(sele))"
   ]
  }
 ],
 "metadata": {
  "kernelspec": {
   "display_name": "Python 3",
   "language": "python",
   "name": "python3"
  },
  "language_info": {
   "codemirror_mode": {
    "name": "ipython",
    "version": 3
   },
   "file_extension": ".py",
   "mimetype": "text/x-python",
   "name": "python",
   "nbconvert_exporter": "python",
   "pygments_lexer": "ipython3",
   "version": "3.7.7"
  }
 },
 "nbformat": 4,
 "nbformat_minor": 4
}

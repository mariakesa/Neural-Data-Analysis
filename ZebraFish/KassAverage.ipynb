{
 "cells": [
  {
   "cell_type": "code",
   "execution_count": 1,
   "metadata": {},
   "outputs": [],
   "source": [
    "import numpy as np\n",
    "from scipy.io import loadmat\n",
    "import h5py\n",
    "import matplotlib.pyplot as plt\n",
    "%matplotlib inline"
   ]
  },
  {
   "cell_type": "code",
   "execution_count": 2,
   "metadata": {},
   "outputs": [],
   "source": [
    "hf = h5py.File('/media/maria/DATA1/Documents/ZebraFish/subject_1/TimeSeries.h5', 'r')\n",
    "#print(hf['absIx'])\n",
    "neural_dat=np.array(hf['CellResp'])\n",
    "del hf\n",
    "\n",
    "regressors=loadmat('/media/maria/DATA1/Documents/ZebraFish/subject_1/data_full.mat')\n",
    "cell_pos=regressors['data']['CellXYZ'][0][0]\n",
    "missing_values=regressors['data']['IX_inval_anat'][0][0]\n",
    "cell_pos=np.delete(cell_pos,missing_values,axis=0)"
   ]
  },
  {
   "cell_type": "code",
   "execution_count": 12,
   "metadata": {},
   "outputs": [],
   "source": [
    "def compute_weights(neural_dat):\n",
    "    variances=np.var(neural_dat,axis=0)\n",
    "    var_sum=np.sum(1./variances)\n",
    "    numerator=1./variances\n",
    "    weights=numerator/var_sum\n",
    "    print(weights.shape)\n",
    "    return weights\n",
    "\n",
    "def compute_weighted_average(neural_dat):\n",
    "    weights=compute_weights(neural_dat)\n",
    "    weighted_average=np.average(neural_dat,weights=weights,axis=1)\n",
    "    return weighted_average"
   ]
  },
  {
   "cell_type": "code",
   "execution_count": 13,
   "metadata": {},
   "outputs": [
    {
     "name": "stdout",
     "output_type": "stream",
     "text": [
      "(83205,)\n"
     ]
    }
   ],
   "source": [
    "weighted_average=compute_weighted_average(neural_dat)"
   ]
  },
  {
   "cell_type": "code",
   "execution_count": 14,
   "metadata": {},
   "outputs": [
    {
     "name": "stdout",
     "output_type": "stream",
     "text": [
      "(2880,)\n"
     ]
    }
   ],
   "source": [
    "print(weighted_average.shape)"
   ]
  }
 ],
 "metadata": {
  "kernelspec": {
   "display_name": "Python 3",
   "language": "python",
   "name": "python3"
  },
  "language_info": {
   "codemirror_mode": {
    "name": "ipython",
    "version": 3
   },
   "file_extension": ".py",
   "mimetype": "text/x-python",
   "name": "python",
   "nbconvert_exporter": "python",
   "pygments_lexer": "ipython3",
   "version": "3.7.7"
  }
 },
 "nbformat": 4,
 "nbformat_minor": 4
}

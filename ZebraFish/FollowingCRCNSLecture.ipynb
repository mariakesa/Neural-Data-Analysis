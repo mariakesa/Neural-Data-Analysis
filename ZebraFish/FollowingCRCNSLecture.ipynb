{
 "cells": [
  {
   "cell_type": "code",
   "execution_count": 1,
   "metadata": {},
   "outputs": [],
   "source": [
    "import numpy as np\n",
    "from scipy.io import loadmat\n",
    "import h5py\n",
    "import matplotlib.pyplot as plt\n",
    "%matplotlib inline"
   ]
  },
  {
   "cell_type": "code",
   "execution_count": 2,
   "metadata": {},
   "outputs": [],
   "source": [
    "hf = h5py.File('/media/maria/DATA1/Documents/ZebraFish/subject_1/TimeSeries.h5', 'r')\n",
    "neural_dat=np.array(hf['CellResp'])\n",
    "del hf\n",
    "regressors=loadmat('/media/maria/DATA1/Documents/ZebraFish/subject_1/data_full.mat')\n",
    "cell_pos=regressors['data']['CellXYZ'][0][0]\n",
    "missing_values=regressors['data']['IX_inval_anat'][0][0]\n",
    "cell_pos=np.delete(cell_pos,missing_values,axis=0)"
   ]
  },
  {
   "cell_type": "code",
   "execution_count": 3,
   "metadata": {
    "scrolled": true
   },
   "outputs": [
    {
     "name": "stdout",
     "output_type": "stream",
     "text": [
      "(2880, 83205)\n"
     ]
    }
   ],
   "source": [
    "print(neural_dat.shape)"
   ]
  },
  {
   "cell_type": "code",
   "execution_count": 6,
   "metadata": {
    "scrolled": true
   },
   "outputs": [
    {
     "data": {
      "text/plain": [
       "(array([ 14.,  73., 255., 611., 833., 636., 327., 102.,  22.,   7.]),\n",
       " array([-0.14315248, -0.09763455, -0.05211663, -0.00659871,  0.03891921,\n",
       "         0.08443713,  0.12995505,  0.17547297,  0.2209909 ,  0.26650882,\n",
       "         0.31202674], dtype=float32),\n",
       " <a list of 10 Patch objects>)"
      ]
     },
     "execution_count": 6,
     "metadata": {},
     "output_type": "execute_result"
    },
    {
     "data": {
      "image/png": "[encoded data removed]",
      "text/plain": [
       "<Figure size 432x288 with 1 Axes>"
      ]
     },
     "metadata": {
      "needs_background": "light"
     },
     "output_type": "display_data"
    }
   ],
   "source": [
    "plt.hist(neural_dat[:,1])"
   ]
  },
  {
   "cell_type": "code",
   "execution_count": 8,
   "metadata": {},
   "outputs": [],
   "source": [
    "stim_dat=loadmat('/media/maria/DATA1/Documents/ZebraFish/subject_1/data_full.mat')['data']['stim_full'][0][0]"
   ]
  },
  {
   "cell_type": "code",
   "execution_count": 9,
   "metadata": {},
   "outputs": [
    {
     "name": "stdout",
     "output_type": "stream",
     "text": [
      "[0 1 2 3]\n"
     ]
    }
   ],
   "source": [
    "print(np.unique(stim_dat))"
   ]
  },
  {
   "cell_type": "code",
   "execution_count": 15,
   "metadata": {},
   "outputs": [
    {
     "data": {
      "text/plain": [
       "(array([  8.,  35.,  74., 111., 138., 173.,  96.,  61.,  19.,   5.]),\n",
       " array([-0.10338461, -0.06751202, -0.03163943,  0.00423316,  0.04010575,\n",
       "         0.07597834,  0.11185093,  0.14772353,  0.1835961 ,  0.2194687 ,\n",
       "         0.2553413 ], dtype=float32),\n",
       " <a list of 10 Patch objects>)"
      ]
     },
     "execution_count": 15,
     "metadata": {},
     "output_type": "execute_result"
    },
    {
     "data": {
      "image/png": "[encoded data removed]",
      "text/plain": [
       "<Figure size 432x288 with 1 Axes>"
      ]
     },
     "metadata": {
      "needs_background": "light"
     },
     "output_type": "display_data"
    }
   ],
   "source": [
    "plt.hist(neural_dat[stim_dat.flatten()==0,0],alpha=0.1)\n",
    "plt.hist(neural_dat[stim_dat.flatten()==1,0],alpha=0.1)\n",
    "plt.hist(neural_dat[stim_dat.flatten()==2,0],alpha=0.1)\n",
    "plt.hist(neural_dat[stim_dat.flatten()==3,0],alpha=0.1)"
   ]
  },
  {
   "cell_type": "code",
   "execution_count": 26,
   "metadata": {},
   "outputs": [],
   "source": [
    "def plot_gaussian_responses(neural_dat,stim_dat,neuron_ind):\n",
    "    plt.hist(neural_dat[stim_dat.flatten()==0,neuron_ind],alpha=0.1)\n",
    "    plt.hist(neural_dat[stim_dat.flatten()==1,neuron_ind],alpha=0.1)\n",
    "    plt.hist(neural_dat[stim_dat.flatten()==2,neuron_ind],alpha=0.1)\n",
    "    plt.hist(neural_dat[stim_dat.flatten()==3,neuron_ind],alpha=0.1)\n",
    "    plt.title('Neuron nr '+str(neuron_ind)+', response distribution for different stimuli')"
   ]
  },
  {
   "cell_type": "code",
   "execution_count": 39,
   "metadata": {},
   "outputs": [
    {
     "data": {
      "image/png": "[encoded data removed]",
      "text/plain": [
       "<Figure size 432x288 with 1 Axes>"
      ]
     },
     "metadata": {
      "needs_background": "light"
     },
     "output_type": "display_data"
    }
   ],
   "source": [
    "plot_gaussian_responses(neural_dat,stim_dat,3000)"
   ]
  },
  {
   "cell_type": "code",
   "execution_count": 37,
   "metadata": {
    "scrolled": true
   },
   "outputs": [
    {
     "name": "stderr",
     "output_type": "stream",
     "text": [
      "/home/maria/anaconda3/lib/python3.7/site-packages/ipykernel_launcher.py:2: RuntimeWarning: overflow encountered in ushort_scalars\n",
      "  \n"
     ]
    },
    {
     "name": "stdout",
     "output_type": "stream",
     "text": [
      "740\n"
     ]
    }
   ],
   "source": [
    "def circle(center_x,center_y,radius,h,k):\n",
    "    within_circle=radius>np.sqrt((center_x-h)**2+(center_y-k)**2)\n",
    "    #print(within_circle)\n",
    "    return within_circle\n",
    "\n",
    "center_x=cell_pos[3000][0]\n",
    "center_y=cell_pos[3000][1]\n",
    "\n",
    "boolean_arr=[]\n",
    "for j in range(0,83205):\n",
    "    boolean_ind=circle(center_x,center_y,100,cell_pos[j][0],cell_pos[j][1])\n",
    "    boolean_arr.append(boolean_ind)\n",
    "print(sum(boolean_arr))"
   ]
  },
  {
   "cell_type": "code",
   "execution_count": 38,
   "metadata": {},
   "outputs": [
    {
     "data": {
      "text/plain": [
       "(array([ 15., 211., 272., 123.,  59.,  11.,   6.,   9.,   7.,   7.]),\n",
       " array([0.02979451, 0.04101063, 0.05222676, 0.06344289, 0.07465901,\n",
       "        0.08587514, 0.09709127, 0.1083074 , 0.11952353, 0.13073964,\n",
       "        0.14195578], dtype=float32),\n",
       " <a list of 10 Patch objects>)"
      ]
     },
     "execution_count": 38,
     "metadata": {},
     "output_type": "execute_result"
    },
    {
     "data": {
      "image/png": "[encoded data removed]",
      "text/plain": [
       "<Figure size 432x288 with 1 Axes>"
      ]
     },
     "metadata": {
      "needs_background": "light"
     },
     "output_type": "display_data"
    }
   ],
   "source": [
    "mean=np.mean(neural_dat[:,boolean_arr],axis=1)\n",
    "plt.hist(mean[stim_dat.flatten()==0],alpha=0.1)\n",
    "plt.hist(mean[stim_dat.flatten()==1],alpha=0.1)\n",
    "plt.hist(mean[stim_dat.flatten()==2],alpha=0.1)\n",
    "plt.hist(mean[stim_dat.flatten()==3],alpha=0.1)"
   ]
  }
 ],
 "metadata": {
  "kernelspec": {
   "display_name": "Python 3",
   "language": "python",
   "name": "python3"
  },
  "language_info": {
   "codemirror_mode": {
    "name": "ipython",
    "version": 3
   },
   "file_extension": ".py",
   "mimetype": "text/x-python",
   "name": "python",
   "nbconvert_exporter": "python",
   "pygments_lexer": "ipython3",
   "version": "3.7.7"
  }
 },
 "nbformat": 4,
 "nbformat_minor": 4
}

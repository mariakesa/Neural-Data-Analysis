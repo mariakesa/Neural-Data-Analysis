{
 "cells": [
  {
   "cell_type": "code",
   "execution_count": 1,
   "metadata": {},
   "outputs": [],
   "source": [
    "import torch\n",
    "torch.cuda.is_available()\n",
    "\n",
    "import numpy as np\n",
    "from scipy.io import loadmat\n",
    "import h5py\n",
    "\n",
    "stim_dat=loadmat('/media/maria/DATA1/Documents/ZebraFish/subject_1/data_full.mat')['data']['stim_full'][0][0]\n",
    "beh_dat=loadmat('/media/maria/DATA1/Documents/ZebraFish/subject_1/data_full.mat')['data']['Behavior_full'][0][0]\n",
    "hf = h5py.File('/media/maria/DATA1/Documents/ZebraFish/subject_1/TimeSeries.h5', 'r')\n",
    "neural_dat=np.array(hf['CellResp'])"
   ]
  },
  {
   "cell_type": "code",
   "execution_count": 16,
   "metadata": {
    "scrolled": true
   },
   "outputs": [
    {
     "name": "stdout",
     "output_type": "stream",
     "text": [
      "Epoch [1/10] - Iter[100/15], Total loss:0.0201, MSE loss:0.0198, Sparse loss:0.2977\n",
      "Epoch [1/10] - Iter[200/15], Total loss:0.0187, MSE loss:0.0184, Sparse loss:0.2373\n",
      "Epoch [1/10] - Iter[300/15], Total loss:0.0279, MSE loss:0.0270, Sparse loss:0.8246\n",
      "Epoch [1/10] - Iter[400/15], Total loss:0.0175, MSE loss:0.0173, Sparse loss:0.2793\n",
      "Train a epoch in 10 seconds\n",
      "\n",
      "Average MSE Loss on Test set: 0.0242\n",
      "Save Best Model in HISTORY\n",
      "\n",
      "Epoch [2/10] - Iter[100/15], Total loss:0.0207, MSE loss:0.0202, Sparse loss:0.5020\n",
      "Epoch [2/10] - Iter[200/15], Total loss:0.0209, MSE loss:0.0206, Sparse loss:0.3108\n",
      "Epoch [2/10] - Iter[300/15], Total loss:0.0196, MSE loss:0.0194, Sparse loss:0.2144\n",
      "Epoch [2/10] - Iter[400/15], Total loss:0.0191, MSE loss:0.0188, Sparse loss:0.2179\n",
      "Train a epoch in 11 seconds\n",
      "\n",
      "Average MSE Loss on Test set: 0.0240\n",
      "Save Best Model in HISTORY\n",
      "\n",
      "Epoch [3/10] - Iter[100/15], Total loss:0.0224, MSE loss:0.0222, Sparse loss:0.2125\n",
      "Epoch [3/10] - Iter[200/15], Total loss:0.0231, MSE loss:0.0227, Sparse loss:0.4258\n",
      "Epoch [3/10] - Iter[300/15], Total loss:0.0206, MSE loss:0.0203, Sparse loss:0.2658\n",
      "Epoch [3/10] - Iter[400/15], Total loss:0.0207, MSE loss:0.0204, Sparse loss:0.2526\n",
      "Train a epoch in 11 seconds\n",
      "\n",
      "Average MSE Loss on Test set: 0.0237\n",
      "Save Best Model in HISTORY\n",
      "\n",
      "Epoch [4/10] - Iter[100/15], Total loss:0.0198, MSE loss:0.0194, Sparse loss:0.3791\n",
      "Epoch [4/10] - Iter[200/15], Total loss:0.0212, MSE loss:0.0208, Sparse loss:0.4172\n",
      "Epoch [4/10] - Iter[300/15], Total loss:0.0239, MSE loss:0.0232, Sparse loss:0.6306\n",
      "Epoch [4/10] - Iter[400/15], Total loss:0.0207, MSE loss:0.0204, Sparse loss:0.2899\n",
      "Train a epoch in 11 seconds\n",
      "\n",
      "Average MSE Loss on Test set: 0.0236\n",
      "Save Best Model in HISTORY\n",
      "\n",
      "Epoch [5/10] - Iter[100/15], Total loss:0.0238, MSE loss:0.0233, Sparse loss:0.5202\n",
      "Epoch [5/10] - Iter[200/15], Total loss:0.0226, MSE loss:0.0220, Sparse loss:0.5872\n",
      "Epoch [5/10] - Iter[300/15], Total loss:0.0230, MSE loss:0.0227, Sparse loss:0.3019\n",
      "Epoch [5/10] - Iter[400/15], Total loss:0.0189, MSE loss:0.0185, Sparse loss:0.4570\n",
      "Train a epoch in 11 seconds\n",
      "\n",
      "Average MSE Loss on Test set: 0.0235\n",
      "Save Best Model in HISTORY\n",
      "\n",
      "Epoch [6/10] - Iter[100/15], Total loss:0.0248, MSE loss:0.0244, Sparse loss:0.4264\n",
      "Epoch [6/10] - Iter[200/15], Total loss:0.0189, MSE loss:0.0184, Sparse loss:0.4222\n",
      "Epoch [6/10] - Iter[300/15], Total loss:0.0206, MSE loss:0.0204, Sparse loss:0.2756\n",
      "Epoch [6/10] - Iter[400/15], Total loss:0.0189, MSE loss:0.0187, Sparse loss:0.1930\n",
      "Train a epoch in 12 seconds\n",
      "\n",
      "Average MSE Loss on Test set: 0.0235\n",
      "Save Best Model in HISTORY\n",
      "\n",
      "Epoch [7/10] - Iter[100/15], Total loss:0.0199, MSE loss:0.0197, Sparse loss:0.1909\n",
      "Epoch [7/10] - Iter[200/15], Total loss:0.0230, MSE loss:0.0227, Sparse loss:0.2474\n",
      "Epoch [7/10] - Iter[300/15], Total loss:0.0236, MSE loss:0.0233, Sparse loss:0.3644\n",
      "Epoch [7/10] - Iter[400/15], Total loss:0.0245, MSE loss:0.0239, Sparse loss:0.5154\n",
      "Train a epoch in 15 seconds\n",
      "\n",
      "Average MSE Loss on Test set: 0.0234\n",
      "Save Best Model in HISTORY\n",
      "\n",
      "Epoch [8/10] - Iter[100/15], Total loss:0.0205, MSE loss:0.0202, Sparse loss:0.3082\n",
      "Epoch [8/10] - Iter[200/15], Total loss:0.0206, MSE loss:0.0202, Sparse loss:0.3400\n",
      "Epoch [8/10] - Iter[300/15], Total loss:0.0184, MSE loss:0.0182, Sparse loss:0.1885\n",
      "Epoch [8/10] - Iter[400/15], Total loss:0.0235, MSE loss:0.0232, Sparse loss:0.2505\n",
      "Train a epoch in 15 seconds\n",
      "\n",
      "Average MSE Loss on Test set: 0.0233\n",
      "Save Best Model in HISTORY\n",
      "\n",
      "Epoch [9/10] - Iter[100/15], Total loss:0.0190, MSE loss:0.0188, Sparse loss:0.1839\n",
      "Epoch [9/10] - Iter[200/15], Total loss:0.0272, MSE loss:0.0270, Sparse loss:0.2522\n",
      "Epoch [9/10] - Iter[300/15], Total loss:0.0242, MSE loss:0.0239, Sparse loss:0.3348\n",
      "Epoch [9/10] - Iter[400/15], Total loss:0.0228, MSE loss:0.0225, Sparse loss:0.3076\n",
      "Train a epoch in 16 seconds\n",
      "\n",
      "Average MSE Loss on Test set: 0.0234\n",
      "Epoch [10/10] - Iter[100/15], Total loss:0.0207, MSE loss:0.0204, Sparse loss:0.2445\n",
      "Epoch [10/10] - Iter[200/15], Total loss:0.0194, MSE loss:0.0192, Sparse loss:0.2054\n",
      "Epoch [10/10] - Iter[300/15], Total loss:0.0193, MSE loss:0.0192, Sparse loss:0.1794\n",
      "Epoch [10/10] - Iter[400/15], Total loss:0.0431, MSE loss:0.0420, Sparse loss:1.0528\n",
      "Train a epoch in 19 seconds\n",
      "\n",
      "Average MSE Loss on Test set: 0.0234\n",
      "Trainig Complete with best validation loss 0.0233\n"
     ]
    }
   ],
   "source": [
    "import torch\n",
    "import torchvision\n",
    "import matplotlib.pyplot as plt\n",
    "\n",
    "import os, datetime\n",
    "os.environ['CUDA_VISIBLE_DEVICES'] = '0'\n",
    "\n",
    "from torch import nn\n",
    "from torch.autograd import Variable\n",
    "from torch.utils.data import Dataset, DataLoader\n",
    "\n",
    "from sklearn.model_selection import train_test_split\n",
    "\n",
    "cuda = torch.cuda.is_available()\n",
    "device = torch.device('cuda:0' if cuda else 'cpu')\n",
    "\n",
    "class SparseAutoencoderL1(nn.Module):\n",
    "    def __init__(self):\n",
    "        super(SparseAutoencoderL1, self).__init__()\n",
    "        self.encoder = nn.Sequential(\n",
    "            nn.Linear(83205, 128),\n",
    "            nn.ReLU(inplace=True),\n",
    "            nn.Linear(128, 64),\n",
    "            nn.ReLU(inplace=True),\n",
    "            nn.Linear(64, 32),\n",
    "            nn.ReLU(inplace=True)\n",
    "        )\n",
    "\n",
    "        self.decoder = nn.Sequential(\n",
    "            nn.Linear(32, 64),\n",
    "            nn.ReLU(inplace=True),\n",
    "            nn.Linear(64, 128),\n",
    "            nn.ReLU(inplace=True),\n",
    "            nn.Linear(128, 83205),\n",
    "            nn.Tanh()\n",
    "        )\n",
    "\n",
    "    def forward(self, x):\n",
    "        x = self.encoder(x)\n",
    "        x = self.decoder(x)\n",
    "        return x\n",
    "\n",
    "def sparse_loss(autoencoder, images):\n",
    "    loss = 0\n",
    "    values = images\n",
    "    for i in range(3):\n",
    "        fc_layer = list(autoencoder.encoder.children())[2 * i]\n",
    "        relu = list(autoencoder.encoder.children())[2 * i + 1]\n",
    "        values = relu(fc_layer(values))\n",
    "        loss += torch.mean(torch.abs(values))\n",
    "    for i in range(2):\n",
    "        fc_layer = list(autoencoder.decoder.children())[2 * i]\n",
    "        relu = list(autoencoder.decoder.children())[2 * i + 1]\n",
    "        values = relu(fc_layer(values))\n",
    "        loss += torch.mean(torch.abs(values))\n",
    "    return loss\n",
    "\n",
    "def model_training(autoencoder, train_loader, epoch):\n",
    "    loss_metric = nn.MSELoss()\n",
    "    optimizer = torch.optim.Adam(autoencoder.parameters(), lr=LEARNING_RATE, weight_decay=WEIGHT_DECAY)\n",
    "\n",
    "    autoencoder.train()\n",
    "    for i, data in enumerate(train_loader):\n",
    "        optimizer.zero_grad()\n",
    "        images = data\n",
    "        images = Variable(images)\n",
    "        images = images.view(images.size(0), -1)\n",
    "        if cuda: images = images.to(device)\n",
    "        outputs = autoencoder(images)\n",
    "        mse_loss = loss_metric(outputs, images)\n",
    "        l1_loss = sparse_loss(autoencoder, images)\n",
    "        loss = mse_loss + SPARSE_REG * l1_loss\n",
    "        loss.backward()\n",
    "        optimizer.step()\n",
    "        if (i + 1) % LOG_INTERVAL == 0:\n",
    "            print('Epoch [{}/{}] - Iter[{}/{}], Total loss:{:.4f}, MSE loss:{:.4f}, Sparse loss:{:.4f}'.format(\n",
    "                epoch + 1, EPOCHS, i + 1, len(train_loader.dataset) // BATCH_SIZE, loss.item(), mse_loss.item(), l1_loss.item()\n",
    "            ))\n",
    "\n",
    "def evaluation(autoencoder, test_loader):\n",
    "    total_loss = 0\n",
    "    loss_metric = nn.MSELoss()\n",
    "    autoencoder.eval()\n",
    "    for i, data in enumerate(test_loader):\n",
    "        images = data\n",
    "        images = Variable(images)\n",
    "        images = images.view(images.size(0), -1)\n",
    "        if cuda: images = images.to(device)\n",
    "        outputs = autoencoder(images)\n",
    "        loss = loss_metric(outputs, images)\n",
    "        total_loss += loss * len(images)\n",
    "    avg_loss = total_loss / len(test_loader.dataset)\n",
    "\n",
    "    print('\\nAverage MSE Loss on Test set: {:.4f}'.format(avg_loss))\n",
    "\n",
    "    global BEST_VAL\n",
    "    if TRAIN_SCRATCH and avg_loss < BEST_VAL:\n",
    "        BEST_VAL = avg_loss\n",
    "        #torch.save(autoencoder.state_dict(), './history/sparse_autoencoder_l1.pt')\n",
    "        print('Save Best Model in HISTORY\\n')\n",
    "\n",
    "\n",
    "if __name__ == '__main__':\n",
    "\n",
    "    EPOCHS = 10\n",
    "    BATCH_SIZE = 128\n",
    "    LEARNING_RATE = 1e-3\n",
    "    WEIGHT_DECAY = 1e-5\n",
    "    LOG_INTERVAL = 100\n",
    "    SPARSE_REG = 1e-3\n",
    "    TRAIN_SCRATCH = True        # whether to train a model from scratch\n",
    "    BEST_VAL = float('inf')\n",
    "    \n",
    "    autoencoder = SparseAutoencoderL1()\n",
    "    if cuda: autoencoder.to(device)\n",
    "    x_train,x_test,stim_train,stim_test=train_test_split(neural_dat,stim_dat.flatten(), test_size=0.33, random_state=42)\n",
    "    train_loader = DataLoader(x_train, batch_size=4,\n",
    "                        shuffle=True, num_workers=4)\n",
    "    test_loader = DataLoader(x_test, batch_size=1,\n",
    "                        shuffle=False, num_workers=4)\n",
    "    if TRAIN_SCRATCH:\n",
    "        # Training autoencoder from scratch\n",
    "        for epoch in range(EPOCHS):\n",
    "            starttime = datetime.datetime.now()\n",
    "            model_training(autoencoder, train_loader, epoch)\n",
    "            endtime = datetime.datetime.now()\n",
    "            print(f'Train a epoch in {(endtime - starttime).seconds} seconds')\n",
    "            \n",
    "            # evaluate on test set and save best model\n",
    "            evaluation(autoencoder, test_loader)\n",
    "            #utput=autoencoder(neural_dat.to_device(device))\n",
    "        print('Trainig Complete with best validation loss {:.4f}'.format(BEST_VAL))"
   ]
  },
  {
   "cell_type": "code",
   "execution_count": 17,
   "metadata": {},
   "outputs": [],
   "source": [
    "total_loader = DataLoader(neural_dat, batch_size=1,\n",
    "                        shuffle=False, num_workers=4)"
   ]
  },
  {
   "cell_type": "code",
   "execution_count": 18,
   "metadata": {},
   "outputs": [
    {
     "name": "stdout",
     "output_type": "stream",
     "text": [
      "(2880, 1, 32)\n"
     ]
    }
   ],
   "source": [
    "lst=[]\n",
    "for i, data in enumerate(total_loader):\n",
    "        images = data\n",
    "        images = Variable(images)\n",
    "        images = images.view(images.size(0), -1)\n",
    "        if cuda: images = images.to(device)\n",
    "        outputs = autoencoder.encoder(images)\n",
    "        nps=outputs.cpu().detach().numpy()\n",
    "        lst.append(nps)\n",
    "lst=np.array(lst)\n",
    "print(lst.shape)"
   ]
  },
  {
   "cell_type": "code",
   "execution_count": 22,
   "metadata": {
    "scrolled": false
   },
   "outputs": [
    {
     "data": {
      "text/plain": [
       "<matplotlib.collections.PathCollection at 0x7fab0cbf0f10>"
      ]
     },
     "execution_count": 22,
     "metadata": {},
     "output_type": "execute_result"
    },
    {
     "data": {
      "image/png": "[encoded data removed]",
      "text/plain": [
       "<Figure size 432x288 with 1 Axes>"
      ]
     },
     "metadata": {
      "needs_background": "light"
     },
     "output_type": "display_data"
    }
   ],
   "source": [
    "dat=lst.reshape(-1,32)\n",
    "from sklearn.decomposition import PCA\n",
    "pca=PCA(n_components=2)\n",
    "pcs=pca.fit_transform(dat)\n",
    "import matplotlib.pyplot as plt\n",
    "plt.scatter(pcs[:,0],pcs[:,1],c=stim_dat.flatten())"
   ]
  },
  {
   "cell_type": "code",
   "execution_count": 24,
   "metadata": {},
   "outputs": [],
   "source": [
    "from sklearn.decomposition import FastICA\n",
    "\n",
    "decomp=FastICA(n_components=2)\n",
    "\n",
    "comps=decomp.fit_transform(neural_dat)"
   ]
  },
  {
   "cell_type": "code",
   "execution_count": 25,
   "metadata": {},
   "outputs": [
    {
     "data": {
      "text/plain": [
       "<matplotlib.collections.PathCollection at 0x7fab0cb762d0>"
      ]
     },
     "execution_count": 25,
     "metadata": {},
     "output_type": "execute_result"
    },
    {
     "data": {
      "image/png": "[encoded data removed]",
      "text/plain": [
       "<Figure size 432x288 with 1 Axes>"
      ]
     },
     "metadata": {
      "needs_background": "light"
     },
     "output_type": "display_data"
    }
   ],
   "source": [
    "plt.scatter(comps[:,0],comps[:,1],c=stim_dat.flatten())"
   ]
  }
 ],
 "metadata": {
  "kernelspec": {
   "display_name": "Python 3",
   "language": "python",
   "name": "python3"
  },
  "language_info": {
   "codemirror_mode": {
    "name": "ipython",
    "version": 3
   },
   "file_extension": ".py",
   "mimetype": "text/x-python",
   "name": "python",
   "nbconvert_exporter": "python",
   "pygments_lexer": "ipython3",
   "version": "3.7.7"
  }
 },
 "nbformat": 4,
 "nbformat_minor": 4
}

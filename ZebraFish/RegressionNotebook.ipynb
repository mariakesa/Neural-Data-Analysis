{
 "cells": [
  {
   "cell_type": "code",
   "execution_count": 35,
   "metadata": {},
   "outputs": [],
   "source": [
    "import numpy as np\n",
    "from scipy.io import loadmat\n",
    "import h5py\n",
    "from EnsemblePursuit.EnsemblePursuit import EnsemblePursuit\n",
    "import matplotlib.pyplot as plt\n",
    "%matplotlib inline"
   ]
  },
  {
   "cell_type": "code",
   "execution_count": 2,
   "metadata": {},
   "outputs": [],
   "source": [
    "#Data downloaded from https://janelia.figshare.com/articles/Whole-brain_light-sheet_imaging_data/7272617"
   ]
  },
  {
   "cell_type": "code",
   "execution_count": 3,
   "metadata": {},
   "outputs": [],
   "source": [
    "beh_dat=loadmat('/media/maria/DATA1/Documents/ZebraFish/subject_1/data_full.mat')['data']['Behavior_full'][0][0]"
   ]
  },
  {
   "cell_type": "code",
   "execution_count": 4,
   "metadata": {},
   "outputs": [],
   "source": [
    "stim_dat=loadmat('/media/maria/DATA1/Documents/ZebraFish/subject_1/data_full.mat')['data']['stim_full'][0][0]"
   ]
  },
  {
   "cell_type": "code",
   "execution_count": 5,
   "metadata": {
    "scrolled": true
   },
   "outputs": [],
   "source": [
    "hf = h5py.File('/media/maria/DATA1/Documents/ZebraFish/subject_1/TimeSeries.h5', 'r')\n",
    "neural_dat=np.array(hf['CellResp'])"
   ]
  },
  {
   "cell_type": "code",
   "execution_count": 6,
   "metadata": {},
   "outputs": [
    {
     "name": "stdout",
     "output_type": "stream",
     "text": [
      "(5, 2880)\n",
      "(1, 2880)\n",
      "(2880, 83205)\n"
     ]
    }
   ],
   "source": [
    "print(beh_dat.shape)\n",
    "print(stim_dat.shape)\n",
    "print(neural_dat.shape)"
   ]
  },
  {
   "cell_type": "code",
   "execution_count": 7,
   "metadata": {},
   "outputs": [],
   "source": [
    "def train_test_split(NT):\n",
    "        nsegs = 20\n",
    "        nt=NT\n",
    "        nlen  = nt/nsegs\n",
    "        ninds = np.linspace(0,nt-nlen,nsegs).astype(int)\n",
    "        itest = (ninds[:,np.newaxis] + np.arange(0,nlen*0.25,1,int)).flatten()\n",
    "        itrain = np.ones(nt, np.bool)\n",
    "        itrain[itest] = 0\n",
    "        return itrain, itest"
   ]
  },
  {
   "cell_type": "code",
   "execution_count": 50,
   "metadata": {},
   "outputs": [
    {
     "name": "stdout",
     "output_type": "stream",
     "text": [
      "Training set size:  2160\n",
      "Test set size:  720\n"
     ]
    }
   ],
   "source": [
    "itrain,itest=train_test_split(beh_dat.shape[1])\n",
    "beh_train=beh_dat[:,itrain]\n",
    "beh_test=beh_dat[:,itest]\n",
    "stim_train=stim_dat[:,itrain].astype('float64')\n",
    "stim_test=stim_dat[:,itest].astype('float64')\n",
    "neural_train=neural_dat.T[:,itrain]\n",
    "neural_test=neural_dat.T[:,itest]\n",
    "print('Training set size: ',beh_train.shape[1])\n",
    "print('Test set size: ',beh_test.shape[1])"
   ]
  },
  {
   "cell_type": "code",
   "execution_count": 13,
   "metadata": {
    "scrolled": false
   },
   "outputs": [
    {
     "name": "stdout",
     "output_type": "stream",
     "text": [
      "obtained 100 PCs in 1.6120 seconds\n",
      "initialized 100 clusters with k-means in 3.4904 seconds\n",
      "ensemble 0, time 5.51, nr neurons 3979, EV 0.0538\n",
      "ensemble 25, time 39.21, nr neurons 851, EV 0.2080\n",
      "ensemble 50, time 51.13, nr neurons 228, EV 0.2370\n",
      "ensemble 75, time 58.97, nr neurons 41, EV 0.2530\n",
      "ensemble 99, time 65.45, nr neurons 135, EV 0.2649\n",
      "average sparsity is 0.0574\n"
     ]
    },
    {
     "data": {
      "text/plain": [
       "<EnsemblePursuit.EnsemblePursuit.EnsemblePursuit at 0x7f67a8622110>"
      ]
     },
     "execution_count": 13,
     "metadata": {},
     "output_type": "execute_result"
    }
   ],
   "source": [
    "ep=EnsemblePursuit(n_components=100,lam=0.01,n_kmeans=100)\n",
    "ep.fit(neural_train[:10000,:].T)"
   ]
  },
  {
   "cell_type": "code",
   "execution_count": 15,
   "metadata": {},
   "outputs": [],
   "source": [
    "V=ep.components_\n",
    "U=ep.weights"
   ]
  },
  {
   "cell_type": "code",
   "execution_count": 52,
   "metadata": {},
   "outputs": [
    {
     "name": "stdout",
     "output_type": "stream",
     "text": [
      "(5, 100)\n",
      "(100, 720)\n"
     ]
    }
   ],
   "source": [
    "covM = np.matmul(beh_train, beh_train.T)\n",
    "lam = 1e5 # regularizer\n",
    "covM += lam*np.eye(beh_train.shape[0])\n",
    "A = np.linalg.solve(covM, np.matmul(beh_train, V))\n",
    "print(A.shape)\n",
    "Vpred = np.matmul(A.T, beh_test)\n",
    "beh_corr_lst=[]\n",
    "V_g=U.T@neural_test[:10000,:]\n",
    "print(V_g.shape)\n",
    "for j in range(0,100):\n",
    "    beh_corr_lst.append(np.corrcoef(Vpred[j,:],V_g[j,:])[0,1])"
   ]
  },
  {
   "cell_type": "code",
   "execution_count": 32,
   "metadata": {
    "scrolled": true
   },
   "outputs": [
    {
     "name": "stdout",
     "output_type": "stream",
     "text": [
      "[0.6020590313280871, -0.2019861374897855, -0.037653568432236, 0.3074901365756037, 0.6685927224223395, 0.3399992625126928, 0.3147643650346174, -0.45378941522717686, -0.36042844522386647, 0.38165468633668775, 0.6254906840311655, -0.36415529593088836, -0.31859406387841155, 0.5177161348856129, -0.46596874185854775, 0.46158690916626416, 0.5024497224642159, -0.4507990261594522, -0.4297548932900158, -0.42362533977204586, -0.45624490950865365, 0.6472925749510761, 0.5679248630291175, -0.4498581302127292, -0.3355776209750361, 0.4624673231019018, 0.13381656242321194, 0.41038434045498856, 0.3617792919830546, -0.30566695942823485, 0.4161317042949022, -0.4434881412884115, 0.5789955189850052, -0.35626475625295156, -0.24721426600936222, -0.43435644517800615, -0.42258423919012705, 0.51753746132549, 0.6008337175343145, 0.22117219380288544, -0.383726255586805, 0.2698201744014306, 0.25074480874522453, -0.46575900608841836, 0.2869592088815962, -0.10892046548257403, 0.5029949121988546, -0.4352256464339926, 0.15275908587206122, -0.49066657540846115, 0.4795506662480447, -0.47096524312785626, 0.4603680542668699, -0.3211099258739529, -0.30239285322515896, -0.5698849571774727, -0.46809771204353295, -0.33991536632192193, 0.4791290310620229, -0.4679463268344005, -0.3828155347362675, 0.45063595336516776, 0.5653687089771707, -0.2784011913168402, -0.36652875653375194, 0.5380448611135077, -0.1940990729836055, -0.34826442794957363, 0.3077464707234886, 0.2599374709236232, -0.3252194687096123, -0.3891005215075629, -0.24058236902605956, -0.3937999149931547, 0.41230915461175205, -0.1951805392596905, -0.21312174356173433, 0.3093575026531853, -0.5095112189590207, -0.4555117724572452, 0.22142336712475783, -0.38690265530339135, 0.5836305915050791, -0.24630212722402905, 0.6035920701702477, 0.4977998039790323, -0.18050822309117998, -0.14120462231124412, -0.4071089795132472, 0.5591960796868249, -0.4250665556510431, -0.19783193554548564, -0.5449882716835736, 0.5287921993873279, 0.3969361702030078, 0.4558614203483376, -0.2888470344244333, 0.6520372101385377, 0.5511797955381622, -0.13190659893297976]\n"
     ]
    }
   ],
   "source": [
    "print(beh_corr_lst)"
   ]
  },
  {
   "cell_type": "code",
   "execution_count": 51,
   "metadata": {},
   "outputs": [
    {
     "name": "stdout",
     "output_type": "stream",
     "text": [
      "(100, 720)\n"
     ]
    }
   ],
   "source": [
    "covM = np.matmul(stim_train, stim_train.T)\n",
    "lam = 1e5 # regularizer\n",
    "covM += lam*np.eye(stim_train.shape[0])\n",
    "A = np.linalg.solve(covM, np.matmul(stim_train, V))\n",
    "Vpred = np.matmul(A.T, stim_test)\n",
    "stim_corr_lst=[]\n",
    "print(V_g.shape)\n",
    "for j in range(0,100):\n",
    "    stim_corr_lst.append(np.corrcoef(Vpred[j,:],V_g[j,:])[0,1])"
   ]
  },
  {
   "cell_type": "code",
   "execution_count": 47,
   "metadata": {},
   "outputs": [
    {
     "name": "stdout",
     "output_type": "stream",
     "text": [
      "[0.6020590313280871, -0.2019861374897855, -0.037653568432236, 0.3074901365756037, 0.6685927224223395, 0.3399992625126928, 0.3147643650346174, -0.45378941522717686, -0.36042844522386647, 0.38165468633668775, 0.6254906840311655, -0.36415529593088836, -0.31859406387841155, 0.5177161348856129, -0.46596874185854775, 0.46158690916626416, 0.5024497224642159, -0.4507990261594522, -0.4297548932900158, -0.42362533977204586, -0.45624490950865365, 0.6472925749510761, 0.5679248630291175, -0.4498581302127292, -0.3355776209750361, 0.4624673231019018, 0.13381656242321194, 0.41038434045498856, 0.3617792919830546, -0.30566695942823485, 0.4161317042949022, -0.4434881412884115, 0.5789955189850052, -0.35626475625295156, -0.24721426600936222, -0.43435644517800615, -0.42258423919012705, 0.51753746132549, 0.6008337175343145, 0.22117219380288544, -0.383726255586805, 0.2698201744014306, 0.25074480874522453, -0.46575900608841836, 0.2869592088815962, -0.10892046548257403, 0.5029949121988546, -0.4352256464339926, 0.15275908587206122, -0.49066657540846115, 0.4795506662480447, -0.47096524312785626, 0.4603680542668699, -0.3211099258739529, -0.30239285322515896, -0.5698849571774727, -0.46809771204353295, -0.33991536632192193, 0.4791290310620229, -0.4679463268344005, -0.3828155347362675, 0.45063595336516776, 0.5653687089771707, -0.2784011913168402, -0.36652875653375194, 0.5380448611135077, -0.1940990729836055, -0.34826442794957363, 0.3077464707234886, 0.2599374709236232, -0.3252194687096123, -0.3891005215075629, -0.24058236902605956, -0.3937999149931547, 0.41230915461175205, -0.1951805392596905, -0.21312174356173433, 0.3093575026531853, -0.5095112189590207, -0.4555117724572452, 0.22142336712475783, -0.38690265530339135, 0.5836305915050791, -0.24630212722402905, 0.6035920701702477, 0.4977998039790323, -0.18050822309117998, -0.14120462231124412, -0.4071089795132472, 0.5591960796868249, -0.4250665556510431, -0.19783193554548564, -0.5449882716835736, 0.5287921993873279, 0.3969361702030078, 0.4558614203483376, -0.2888470344244333, 0.6520372101385377, 0.5511797955381622, -0.13190659893297976]\n",
      "[0.6020590313280871, -0.2019861374897855, -0.037653568432236, 0.3074901365756037, 0.6685927224223395, 0.3399992625126928, 0.3147643650346174, -0.45378941522717686, -0.36042844522386647, 0.38165468633668775, 0.6254906840311655, -0.36415529593088836, -0.31859406387841155, 0.5177161348856129, -0.46596874185854775, 0.46158690916626416, 0.5024497224642159, -0.4507990261594522, -0.4297548932900158, -0.42362533977204586, -0.45624490950865365, 0.6472925749510761, 0.5679248630291175, -0.4498581302127292, -0.3355776209750361, 0.4624673231019018, 0.13381656242321194, 0.41038434045498856, 0.3617792919830546, -0.30566695942823485, 0.4161317042949022, -0.4434881412884115, 0.5789955189850052, -0.35626475625295156, -0.24721426600936222, -0.43435644517800615, -0.42258423919012705, 0.51753746132549, 0.6008337175343145, 0.22117219380288544, -0.383726255586805, 0.2698201744014306, 0.25074480874522453, -0.46575900608841836, 0.2869592088815962, -0.10892046548257403, 0.5029949121988546, -0.4352256464339926, 0.15275908587206122, -0.49066657540846115, 0.4795506662480447, -0.47096524312785626, 0.4603680542668699, -0.3211099258739529, -0.30239285322515896, -0.5698849571774727, -0.46809771204353295, -0.33991536632192193, 0.4791290310620229, -0.4679463268344005, -0.3828155347362675, 0.45063595336516776, 0.5653687089771707, -0.2784011913168402, -0.36652875653375194, 0.5380448611135077, -0.1940990729836055, -0.34826442794957363, 0.3077464707234886, 0.2599374709236232, -0.3252194687096123, -0.3891005215075629, -0.24058236902605956, -0.3937999149931547, 0.41230915461175205, -0.1951805392596905, -0.21312174356173433, 0.3093575026531853, -0.5095112189590207, -0.4555117724572452, 0.22142336712475783, -0.38690265530339135, 0.5836305915050791, -0.24630212722402905, 0.6035920701702477, 0.4977998039790323, -0.18050822309117998, -0.14120462231124412, -0.4071089795132472, 0.5591960796868249, -0.4250665556510431, -0.19783193554548564, -0.5449882716835736, 0.5287921993873279, 0.3969361702030078, 0.4558614203483376, -0.2888470344244333, 0.6520372101385377, 0.5511797955381622, -0.13190659893297976]\n"
     ]
    }
   ],
   "source": [
    "print(stim_corr_lst)\n",
    "print(beh_corr_lst)"
   ]
  },
  {
   "cell_type": "code",
   "execution_count": 53,
   "metadata": {},
   "outputs": [
    {
     "data": {
      "text/plain": [
       "<matplotlib.collections.PathCollection at 0x7f680fc45b50>"
      ]
     },
     "execution_count": 53,
     "metadata": {},
     "output_type": "execute_result"
    },
    {
     "data": {
      "image/png": "[encoded data removed]",
      "text/plain": [
       "<Figure size 432x288 with 1 Axes>"
      ]
     },
     "metadata": {
      "needs_background": "light"
     },
     "output_type": "display_data"
    }
   ],
   "source": [
    "plt.scatter(beh_corr_lst,stim_corr_lst)\n",
    "plt.xlabel()"
   ]
  }
 ],
 "metadata": {
  "kernelspec": {
   "display_name": "Python 3",
   "language": "python",
   "name": "python3"
  },
  "language_info": {
   "codemirror_mode": {
    "name": "ipython",
    "version": 3
   },
   "file_extension": ".py",
   "mimetype": "text/x-python",
   "name": "python",
   "nbconvert_exporter": "python",
   "pygments_lexer": "ipython3",
   "version": "3.7.4"
  }
 },
 "nbformat": 4,
 "nbformat_minor": 4
}

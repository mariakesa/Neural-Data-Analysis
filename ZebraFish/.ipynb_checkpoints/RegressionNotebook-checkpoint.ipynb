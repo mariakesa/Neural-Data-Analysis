{
 "cells": [
  {
   "cell_type": "code",
   "execution_count": 1,
   "metadata": {},
   "outputs": [],
   "source": [
    "import numpy as np\n",
    "from scipy.io import loadmat\n",
    "import h5py\n",
    "from EnsemblePursuit.EnsemblePursuit import EnsemblePursuit"
   ]
  },
  {
   "cell_type": "code",
   "execution_count": 2,
   "metadata": {},
   "outputs": [],
   "source": [
    "#Data downloaded from https://janelia.figshare.com/articles/Whole-brain_light-sheet_imaging_data/7272617"
   ]
  },
  {
   "cell_type": "code",
   "execution_count": 3,
   "metadata": {},
   "outputs": [],
   "source": [
    "beh_dat=loadmat('/media/maria/DATA1/Documents/ZebraFish/subject_1/data_full.mat')['data']['Behavior_full'][0][0]"
   ]
  },
  {
   "cell_type": "code",
   "execution_count": 4,
   "metadata": {},
   "outputs": [],
   "source": [
    "stim_dat=loadmat('/media/maria/DATA1/Documents/ZebraFish/subject_1/data_full.mat')['data']['stim_full'][0][0]"
   ]
  },
  {
   "cell_type": "code",
   "execution_count": 5,
   "metadata": {
    "scrolled": true
   },
   "outputs": [],
   "source": [
    "hf = h5py.File('/media/maria/DATA1/Documents/ZebraFish/subject_1/TimeSeries.h5', 'r')\n",
    "neural_dat=np.array(hf['CellResp'])"
   ]
  },
  {
   "cell_type": "code",
   "execution_count": 6,
   "metadata": {},
   "outputs": [
    {
     "name": "stdout",
     "output_type": "stream",
     "text": [
      "(5, 2880)\n",
      "(1, 2880)\n",
      "(2880, 83205)\n"
     ]
    }
   ],
   "source": [
    "print(beh_dat.shape)\n",
    "print(stim_dat.shape)\n",
    "print(neural_dat.shape)"
   ]
  },
  {
   "cell_type": "code",
   "execution_count": 7,
   "metadata": {},
   "outputs": [],
   "source": [
    "def train_test_split(NT):\n",
    "        nsegs = 20\n",
    "        nt=NT\n",
    "        nlen  = nt/nsegs\n",
    "        ninds = np.linspace(0,nt-nlen,nsegs).astype(int)\n",
    "        itest = (ninds[:,np.newaxis] + np.arange(0,nlen*0.25,1,int)).flatten()\n",
    "        itrain = np.ones(nt, np.bool)\n",
    "        itrain[itest] = 0\n",
    "        return itrain, itest"
   ]
  },
  {
   "cell_type": "code",
   "execution_count": 8,
   "metadata": {},
   "outputs": [
    {
     "name": "stdout",
     "output_type": "stream",
     "text": [
      "Training set size:  2160\n",
      "Test set size:  720\n"
     ]
    }
   ],
   "source": [
    "itrain,itest=train_test_split(beh_dat.shape[1])\n",
    "beh_train=beh_dat[:,itrain]\n",
    "beh_test=beh_dat[:,itest]\n",
    "stim_train=beh_dat[:,itrain]\n",
    "stim_test=beh_dat[:,itest]\n",
    "neural_train=neural_dat.T[:,itrain]\n",
    "neural_test=neural_dat.T[:,itest]\n",
    "print('Training set size: ',beh_train.shape[1])\n",
    "print('Test set size: ',beh_test.shape[1])"
   ]
  },
  {
   "cell_type": "code",
   "execution_count": 9,
   "metadata": {
    "scrolled": true
   },
   "outputs": [
    {
     "name": "stdout",
     "output_type": "stream",
     "text": [
      "obtained 100 PCs in 20.7037 seconds\n",
      "initialized 100 clusters with k-means in 11.6148 seconds\n",
      "ensemble 0, time 5.30, nr neurons 2160, EV 0.1992\n",
      "ensemble 25, time 53.26, nr neurons 164, EV 0.5196\n",
      "ensemble 50, time 93.22, nr neurons 135, EV 0.6121\n",
      "ensemble 75, time 129.08, nr neurons 57, EV 0.6643\n",
      "ensemble 99, time 161.31, nr neurons 53, EV 0.7001\n",
      "average sparsity is 0.0878\n"
     ]
    },
    {
     "data": {
      "text/plain": [
       "<EnsemblePursuit.EnsemblePursuit.EnsemblePursuit at 0x7f681e120fd0>"
      ]
     },
     "execution_count": 9,
     "metadata": {},
     "output_type": "execute_result"
    }
   ],
   "source": [
    "ep=EnsemblePursuit(n_components=100,lam=0.01,n_kmeans=100)\n",
    "ep.fit(neural_train.T)"
   ]
  },
  {
   "cell_type": "code",
   "execution_count": 10,
   "metadata": {},
   "outputs": [
    {
     "name": "stdout",
     "output_type": "stream",
     "text": [
      "(2160, 100)\n",
      "(83205, 100)\n"
     ]
    }
   ],
   "source": [
    "V=ep.components_\n",
    "U=ep.weights\n",
    "print(U.shape)\n",
    "print(V.shape)"
   ]
  }
 ],
 "metadata": {
  "kernelspec": {
   "display_name": "Python 3",
   "language": "python",
   "name": "python3"
  },
  "language_info": {
   "codemirror_mode": {
    "name": "ipython",
    "version": 3
   },
   "file_extension": ".py",
   "mimetype": "text/x-python",
   "name": "python",
   "nbconvert_exporter": "python",
   "pygments_lexer": "ipython3",
   "version": "3.7.4"
  }
 },
 "nbformat": 4,
 "nbformat_minor": 4
}

{
 "cells": [
  {
   "cell_type": "code",
   "execution_count": 35,
   "metadata": {},
   "outputs": [],
   "source": [
    "import numpy as np\n",
    "from scipy.io import loadmat\n",
    "import h5py\n",
    "from EnsemblePursuit.EnsemblePursuit import EnsemblePursuit\n",
    "import matplotlib.pyplot as plt\n",
    "%matplotlib inline"
   ]
  },
  {
   "cell_type": "code",
   "execution_count": 2,
   "metadata": {},
   "outputs": [],
   "source": [
    "#Data downloaded from https://janelia.figshare.com/articles/Whole-brain_light-sheet_imaging_data/7272617"
   ]
  },
  {
   "cell_type": "code",
   "execution_count": 3,
   "metadata": {},
   "outputs": [],
   "source": [
    "beh_dat=loadmat('/media/maria/DATA1/Documents/ZebraFish/subject_1/data_full.mat')['data']['Behavior_full'][0][0]"
   ]
  },
  {
   "cell_type": "code",
   "execution_count": 4,
   "metadata": {},
   "outputs": [],
   "source": [
    "stim_dat=loadmat('/media/maria/DATA1/Documents/ZebraFish/subject_1/data_full.mat')['data']['stim_full'][0][0]"
   ]
  },
  {
   "cell_type": "code",
   "execution_count": 5,
   "metadata": {
    "scrolled": true
   },
   "outputs": [],
   "source": [
    "hf = h5py.File('/media/maria/DATA1/Documents/ZebraFish/subject_1/TimeSeries.h5', 'r')\n",
    "neural_dat=np.array(hf['CellResp'])"
   ]
  },
  {
   "cell_type": "code",
   "execution_count": 6,
   "metadata": {},
   "outputs": [
    {
     "name": "stdout",
     "output_type": "stream",
     "text": [
      "(5, 2880)\n",
      "(1, 2880)\n",
      "(2880, 83205)\n"
     ]
    }
   ],
   "source": [
    "print(beh_dat.shape)\n",
    "print(stim_dat.shape)\n",
    "print(neural_dat.shape)"
   ]
  },
  {
   "cell_type": "code",
   "execution_count": 7,
   "metadata": {},
   "outputs": [],
   "source": [
    "def train_test_split(NT):\n",
    "        nsegs = 20\n",
    "        nt=NT\n",
    "        nlen  = nt/nsegs\n",
    "        ninds = np.linspace(0,nt-nlen,nsegs).astype(int)\n",
    "        itest = (ninds[:,np.newaxis] + np.arange(0,nlen*0.25,1,int)).flatten()\n",
    "        itrain = np.ones(nt, np.bool)\n",
    "        itrain[itest] = 0\n",
    "        return itrain, itest"
   ]
  },
  {
   "cell_type": "code",
   "execution_count": 50,
   "metadata": {},
   "outputs": [
    {
     "name": "stdout",
     "output_type": "stream",
     "text": [
      "Training set size:  2160\n",
      "Test set size:  720\n"
     ]
    }
   ],
   "source": [
    "itrain,itest=train_test_split(beh_dat.shape[1])\n",
    "beh_train=beh_dat[:,itrain]\n",
    "beh_test=beh_dat[:,itest]\n",
    "stim_train=stim_dat[:,itrain].astype('float64')\n",
    "stim_test=stim_dat[:,itest].astype('float64')\n",
    "neural_train=neural_dat.T[:,itrain]\n",
    "neural_test=neural_dat.T[:,itest]\n",
    "print('Training set size: ',beh_train.shape[1])\n",
    "print('Test set size: ',beh_test.shape[1])"
   ]
  },
  {
   "cell_type": "code",
   "execution_count": 13,
   "metadata": {
    "scrolled": false
   },
   "outputs": [
    {
     "name": "stdout",
     "output_type": "stream",
     "text": [
      "obtained 100 PCs in 1.6120 seconds\n",
      "initialized 100 clusters with k-means in 3.4904 seconds\n",
      "ensemble 0, time 5.51, nr neurons 3979, EV 0.0538\n",
      "ensemble 25, time 39.21, nr neurons 851, EV 0.2080\n",
      "ensemble 50, time 51.13, nr neurons 228, EV 0.2370\n",
      "ensemble 75, time 58.97, nr neurons 41, EV 0.2530\n",
      "ensemble 99, time 65.45, nr neurons 135, EV 0.2649\n",
      "average sparsity is 0.0574\n"
     ]
    },
    {
     "data": {
      "text/plain": [
       "<EnsemblePursuit.EnsemblePursuit.EnsemblePursuit at 0x7f67a8622110>"
      ]
     },
     "execution_count": 13,
     "metadata": {},
     "output_type": "execute_result"
    }
   ],
   "source": [
    "ep=EnsemblePursuit(n_components=100,lam=0.01,n_kmeans=100)\n",
    "ep.fit(neural_train[:10000,:].T)"
   ]
  },
  {
   "cell_type": "code",
   "execution_count": 15,
   "metadata": {},
   "outputs": [],
   "source": [
    "V=ep.components_\n",
    "U=ep.weights"
   ]
  },
  {
   "cell_type": "code",
   "execution_count": 54,
   "metadata": {},
   "outputs": [],
   "source": [
    "covM = np.matmul(beh_train, beh_train.T)\n",
    "lam = 1e5 # regularizer\n",
    "covM += lam*np.eye(beh_train.shape[0])\n",
    "A = np.linalg.solve(covM, np.matmul(beh_train, V))\n",
    "Vpred = np.matmul(A.T, beh_test)\n",
    "beh_corr_lst=[]\n",
    "V_g=U.T@neural_test[:10000,:]\n",
    "for j in range(0,100):\n",
    "    beh_corr_lst.append(np.corrcoef(Vpred[j,:],V_g[j,:])[0,1])"
   ]
  },
  {
   "cell_type": "code",
   "execution_count": 55,
   "metadata": {},
   "outputs": [
    {
     "name": "stdout",
     "output_type": "stream",
     "text": [
      "(100, 720)\n"
     ]
    }
   ],
   "source": [
    "covM = np.matmul(stim_train, stim_train.T)\n",
    "lam = 1e5 # regularizer\n",
    "covM += lam*np.eye(stim_train.shape[0])\n",
    "A = np.linalg.solve(covM, np.matmul(stim_train, V))\n",
    "Vpred = np.matmul(A.T, stim_test)\n",
    "stim_corr_lst=[]\n",
    "print(V_g.shape)\n",
    "for j in range(0,100):\n",
    "    stim_corr_lst.append(np.corrcoef(Vpred[j,:],V_g[j,:])[0,1])"
   ]
  },
  {
   "cell_type": "code",
   "execution_count": 56,
   "metadata": {
    "scrolled": true
   },
   "outputs": [
    {
     "data": {
      "text/plain": [
       "Text(0, 0.5, 'Stimulus prediction correlations')"
      ]
     },
     "execution_count": 56,
     "metadata": {},
     "output_type": "execute_result"
    },
    {
     "data": {
      "image/png": "[encoded data removed]",
      "text/plain": [
       "<Figure size 432x288 with 1 Axes>"
      ]
     },
     "metadata": {
      "needs_background": "light"
     },
     "output_type": "display_data"
    }
   ],
   "source": [
    "plt.scatter(beh_corr_lst,stim_corr_lst)\n",
    "plt.title('Behavior and stimulus selectivities of ensemble')\n",
    "plt.xlabel('Behavior prediction correlations')\n",
    "plt.ylabel('Stimulus prediction correlations')"
   ]
  }
 ],
 "metadata": {
  "kernelspec": {
   "display_name": "Python 3",
   "language": "python",
   "name": "python3"
  },
  "language_info": {
   "codemirror_mode": {
    "name": "ipython",
    "version": 3
   },
   "file_extension": ".py",
   "mimetype": "text/x-python",
   "name": "python",
   "nbconvert_exporter": "python",
   "pygments_lexer": "ipython3",
   "version": "3.7.4"
  }
 },
 "nbformat": 4,
 "nbformat_minor": 4
}

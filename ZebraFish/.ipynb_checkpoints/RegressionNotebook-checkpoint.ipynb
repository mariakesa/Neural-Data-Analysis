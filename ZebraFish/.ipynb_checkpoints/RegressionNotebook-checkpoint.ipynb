{
 "cells": [
  {
   "cell_type": "code",
   "execution_count": 1,
   "metadata": {},
   "outputs": [],
   "source": [
    "import numpy as np\n",
    "from scipy.io import loadmat\n",
    "import h5py"
   ]
  },
  {
   "cell_type": "code",
   "execution_count": null,
   "metadata": {},
   "outputs": [],
   "source": [
    "#Data downloaded from https://janelia.figshare.com/articles/Whole-brain_light-sheet_imaging_data/7272617"
   ]
  },
  {
   "cell_type": "code",
   "execution_count": 26,
   "metadata": {},
   "outputs": [],
   "source": [
    "beh_dat=loadmat('/media/maria/DATA1/Documents/ZebraFish/subject_1/data_full.mat')['data']['Behavior_full'][0][0]"
   ]
  },
  {
   "cell_type": "code",
   "execution_count": 24,
   "metadata": {},
   "outputs": [],
   "source": [
    "stim_dat=loadmat('/media/maria/DATA1/Documents/ZebraFish/subject_1/data_full.mat')['data']['stim_full'][0][0]"
   ]
  },
  {
   "cell_type": "code",
   "execution_count": 20,
   "metadata": {
    "scrolled": true
   },
   "outputs": [
    {
     "name": "stdout",
     "output_type": "stream",
     "text": [
      "<HDF5 file \"TimeSeries.h5\" (mode r)>\n",
      "[[ 0.1451106   0.0822401   0.10081089 ...  0.06369543  0.05894333\n",
      "   0.10701609]\n",
      " [ 0.04709136  0.0560137   0.08862913 ...  0.03361654  0.10063243\n",
      "   0.03065634]\n",
      " [ 0.12183964  0.04523373 -0.00890672 ...  0.07679164  0.05158645\n",
      "   0.1542834 ]\n",
      " ...\n",
      " [ 0.01886123  0.05529785  0.20141983 ... -0.00887227  0.00384903\n",
      "   0.08257186]\n",
      " [ 0.09211934  0.07599366  0.04330695 ...  0.11822212  0.04270738\n",
      "   0.09791267]\n",
      " [ 0.16219246  0.08529508  0.02938294 ...  0.0036121   0.02087992\n",
      "   0.0704037 ]]\n"
     ]
    }
   ],
   "source": [
    "hf = h5py.File('/media/maria/DATA1/Documents/ZebraFish/subject_1/TimeSeries.h5', 'r')\n",
    "neural_dat=np.array(hf['CellResp'])"
   ]
  },
  {
   "cell_type": "code",
   "execution_count": 28,
   "metadata": {},
   "outputs": [
    {
     "name": "stdout",
     "output_type": "stream",
     "text": [
      "(5, 2880)\n",
      "(1, 2880)\n",
      "(2880, 83205)\n"
     ]
    }
   ],
   "source": [
    "print(beh_dat.shape)\n",
    "print(stim_dat.shape)\n",
    "print(neural_dat.shape)"
   ]
  }
 ],
 "metadata": {
  "kernelspec": {
   "display_name": "Python 3",
   "language": "python",
   "name": "python3"
  },
  "language_info": {
   "codemirror_mode": {
    "name": "ipython",
    "version": 3
   },
   "file_extension": ".py",
   "mimetype": "text/x-python",
   "name": "python",
   "nbconvert_exporter": "python",
   "pygments_lexer": "ipython3",
   "version": "3.7.4"
  }
 },
 "nbformat": 4,
 "nbformat_minor": 4
}

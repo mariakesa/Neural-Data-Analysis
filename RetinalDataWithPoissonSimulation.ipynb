{
 "cells": [
  {
   "cell_type": "code",
   "execution_count": 1,
   "metadata": {},
   "outputs": [],
   "source": [
    "#https://datadryad.org/stash/dataset/doi:10.5061/dryad.4ch10"
   ]
  },
  {
   "cell_type": "markdown",
   "metadata": {},
   "source": [
    "In this notebook I will compare simulated spike trains of Poisson process neurons to real spike trains from 30 retina ganglions cells downloaded from here https://datadryad.org/stash/dataset/doi:10.5061/dryad.4ch10 . Each simulated neuron comes from a Poisson process with the same mean firing rate parameter as a real neuron. There are 1000 simulated neurons per one real neuron. I will then use Van Rossum distance to find pairs of neurons that are most similar in the simulation (amongst the 1000 neurons with the same mean parameter as  vs real data. I will evaluate the inter spike intervals (ISI) of Poisson neurons and real neurons. We use the Elephant library for simulation and data analysis."
   ]
  },
  {
   "cell_type": "code",
   "execution_count": 71,
   "metadata": {},
   "outputs": [],
   "source": [
    "from scipy import io\n",
    "import numpy as np\n",
    "import elephant\n",
    "import neo\n",
    "from quantities import ms, s, kHz\n",
    "from elephant.spike_train_generation import homogeneous_poisson_process\n",
    "from elephant.statistics import isi \n",
    "import matplotlib.pyplot as plt\n",
    "from elephant.spike_train_dissimilarity import van_rossum_dist\n",
    "%matplotlib inline"
   ]
  },
  {
   "cell_type": "markdown",
   "metadata": {},
   "source": [
    "# Simulating Poisson spike trains"
   ]
  },
  {
   "cell_type": "code",
   "execution_count": 4,
   "metadata": {},
   "outputs": [],
   "source": [
    "dat=io.loadmat('/media/maria/DATA1/Documents/NeuralData/RetinaDataFactorizationsOfPopulationSpikeTrains/NeuralData/Spikes/Movie1Exp1.mat')"
   ]
  },
  {
   "cell_type": "code",
   "execution_count": 64,
   "metadata": {},
   "outputs": [
    {
     "name": "stdout",
     "output_type": "stream",
     "text": [
      "dict_keys(['__header__', '__version__', '__globals__', 'n_trials', 'n_neurons', 'Spikes'])\n",
      "(38, 30)\n"
     ]
    }
   ],
   "source": [
    "print(dat.keys())\n",
    "print(dat['Spikes'].shape)\n",
    "#print(dat['Spikes'])"
   ]
  },
  {
   "cell_type": "markdown",
   "metadata": {},
   "source": [
    "Generating one Poisson spike train with the same rate as the first trial of the very first neuron (out of 38)."
   ]
  },
  {
   "cell_type": "code",
   "execution_count": 60,
   "metadata": {
    "scrolled": false
   },
   "outputs": [
    {
     "name": "stdout",
     "output_type": "stream",
     "text": [
      "1.5333333333333334 1/ms\n",
      "[  572.13278968   786.98676663  1138.12789767  1150.42751334\n",
      "  2848.55347293  2894.63636725  3123.18688014  4937.78059364\n",
      "  6058.59414547  7131.80601812  7662.20973748  8283.29239331\n",
      "  9876.55545622 10903.73034142 11042.80412459 13697.56553715\n",
      " 14531.86188261] ms\n",
      "[  40. 2590.  349.  353. 1936.   10.   14.   13.   18.  494.  376.  627.\n",
      "   18. 1238.  570.  632.  914.   37.  995.  417.  492.   87.] ms\n",
      "[ 214.85397695  351.14113104   12.29961567 1698.12595959   46.08289432\n",
      "  228.55051289 1814.5937135  1120.81355183 1073.21187264  530.40371937\n",
      "  621.08265582 1593.26306291 1027.17488519  139.07378317 2654.76141256\n",
      "  834.29634546] ms\n"
     ]
    },
    {
     "data": {
      "text/plain": [
       "<matplotlib.legend.Legend at 0x7f868f97bc50>"
      ]
     },
     "execution_count": 60,
     "metadata": {},
     "output_type": "execute_result"
    },
    {
     "data": {
      "image/png": "[encoded data removed]",
      "text/plain": [
       "<Figure size 432x288 with 1 Axes>"
      ]
     },
     "metadata": {
      "needs_background": "light"
     },
     "output_type": "display_data"
    }
   ],
   "source": [
    "train = neo.SpikeTrain(dat['Spikes'][0][0].flatten()*ms, t_stop=15000.0)\n",
    "rate=elephant.statistics.mean_firing_rate(train)\n",
    "print(rate*1000)\n",
    "poisson_spike =homogeneous_poisson_process(rate=rate, t_start=0.*ms, t_stop=15000.*ms)\n",
    "print(poisson_spike)\n",
    "print(isi(train))\n",
    "print(isi(poisson_spike))\n",
    "plt.hist(isi(np.array(train)),label='original spike train ISI',alpha=0.3)\n",
    "plt.hist((isi(np.array(poisson_spike))),label='Poisson spike trian ISI',alpha=0.5)\n",
    "plt.legend()\n"
   ]
  },
  {
   "cell_type": "code",
   "execution_count": 87,
   "metadata": {
    "scrolled": false
   },
   "outputs": [
    {
     "data": {
      "text/plain": [
       "array([   35.56648782,    73.15567159,  1101.64579057,  3641.95188539,\n",
       "        5839.14156745,  6744.06601402,  7382.61859112,  7388.57895962,\n",
       "        7939.57844364,  8063.48926727,  9715.00815554, 12692.33239123,\n",
       "       12809.36668697, 13249.5886014 , 14982.45281765]) * ms"
      ]
     },
     "execution_count": 87,
     "metadata": {},
     "output_type": "execute_result"
    }
   ],
   "source": [
    "def generate_1000_spike_trains(rate):\n",
    "    total_array=[]\n",
    "    for j in range(0,1000):\n",
    "        poisson_spike =homogeneous_poisson_process(rate=rate, t_start=0.*ms, t_stop=15000.*ms)\n",
    "        total_array.append(list(np.array(poisson_spike))*ms)\n",
    "    return total_array\n",
    "poisson_spikes=generate_1000_spike_trains(rate)\n",
    "poisson_spikes[0]"
   ]
  },
  {
   "cell_type": "code",
   "execution_count": 107,
   "metadata": {},
   "outputs": [
    {
     "ename": "TypeError",
     "evalue": "_vhstack_dispatcher() takes 1 positional argument but 2 were given",
     "output_type": "error",
     "traceback": [
      "\u001b[0;31m---------------------------------------------------------------------------\u001b[0m",
      "\u001b[0;31mTypeError\u001b[0m                                 Traceback (most recent call last)",
      "\u001b[0;32m<ipython-input-107-e709f91f3598>\u001b[0m in \u001b[0;36m<module>\u001b[0;34m\u001b[0m\n\u001b[1;32m     16\u001b[0m     \u001b[0;32mreturn\u001b[0m \u001b[0mdist_lst\u001b[0m\u001b[0;34m,\u001b[0m \u001b[0mclosest_neuron\u001b[0m\u001b[0;34m\u001b[0m\u001b[0;34m\u001b[0m\u001b[0m\n\u001b[1;32m     17\u001b[0m \u001b[0;34m\u001b[0m\u001b[0m\n\u001b[0;32m---> 18\u001b[0;31m \u001b[0mcompute_van_rossum_dist\u001b[0m\u001b[0;34m(\u001b[0m\u001b[0mtrain\u001b[0m\u001b[0;34m,\u001b[0m\u001b[0mpoisson_spikes\u001b[0m\u001b[0;34m)\u001b[0m\u001b[0;34m\u001b[0m\u001b[0;34m\u001b[0m\u001b[0m\n\u001b[0m",
      "\u001b[0;32m<ipython-input-107-e709f91f3598>\u001b[0m in \u001b[0;36mcompute_van_rossum_dist\u001b[0;34m(original_spikes, poisson_spikes)\u001b[0m\n\u001b[1;32m     11\u001b[0m     \u001b[0mlst_\u001b[0m\u001b[0;34m=\u001b[0m\u001b[0mnp\u001b[0m\u001b[0;34m.\u001b[0m\u001b[0marray\u001b[0m\u001b[0;34m(\u001b[0m\u001b[0moriginal_spikes\u001b[0m\u001b[0;34m)\u001b[0m\u001b[0;34m\u001b[0m\u001b[0;34m\u001b[0m\u001b[0m\n\u001b[1;32m     12\u001b[0m     \u001b[0mlst\u001b[0m\u001b[0;34m=\u001b[0m\u001b[0maux\u001b[0m\u001b[0;34m[\u001b[0m\u001b[0mclosest_neurons\u001b[0m\u001b[0;34m[\u001b[0m\u001b[0;36m0\u001b[0m\u001b[0;34m:\u001b[0m\u001b[0;36m4\u001b[0m\u001b[0;34m]\u001b[0m\u001b[0;34m]\u001b[0m\u001b[0;34m\u001b[0m\u001b[0;34m\u001b[0m\u001b[0m\n\u001b[0;32m---> 13\u001b[0;31m     \u001b[0mlst_\u001b[0m\u001b[0;34m=\u001b[0m\u001b[0mnp\u001b[0m\u001b[0;34m.\u001b[0m\u001b[0mvstack\u001b[0m\u001b[0;34m(\u001b[0m\u001b[0mlst_\u001b[0m\u001b[0;34m,\u001b[0m\u001b[0mlst\u001b[0m\u001b[0;34m)\u001b[0m\u001b[0;34m\u001b[0m\u001b[0;34m\u001b[0m\u001b[0m\n\u001b[0m\u001b[1;32m     14\u001b[0m     \u001b[0mplt\u001b[0m\u001b[0;34m.\u001b[0m\u001b[0meventplot\u001b[0m\u001b[0;34m(\u001b[0m\u001b[0mlst_\u001b[0m\u001b[0;34m,\u001b[0m\u001b[0mlineoffsets\u001b[0m\u001b[0;34m=\u001b[0m\u001b[0;34m[\u001b[0m\u001b[0;36m0\u001b[0m\u001b[0;34m,\u001b[0m\u001b[0;36m1\u001b[0m\u001b[0;34m,\u001b[0m\u001b[0;36m2\u001b[0m\u001b[0;34m,\u001b[0m\u001b[0;36m3\u001b[0m\u001b[0;34m,\u001b[0m\u001b[0;36m4\u001b[0m\u001b[0;34m]\u001b[0m\u001b[0;34m,\u001b[0m\u001b[0mcolors\u001b[0m\u001b[0;34m=\u001b[0m\u001b[0mcolors\u001b[0m\u001b[0;34m)\u001b[0m\u001b[0;34m\u001b[0m\u001b[0;34m\u001b[0m\u001b[0m\n\u001b[1;32m     15\u001b[0m     \u001b[0mplt\u001b[0m\u001b[0;34m.\u001b[0m\u001b[0mshow\u001b[0m\u001b[0;34m(\u001b[0m\u001b[0;34m)\u001b[0m\u001b[0;34m\u001b[0m\u001b[0;34m\u001b[0m\u001b[0m\n",
      "\u001b[0;32m<__array_function__ internals>\u001b[0m in \u001b[0;36mvstack\u001b[0;34m(*args, **kwargs)\u001b[0m\n",
      "\u001b[0;31mTypeError\u001b[0m: _vhstack_dispatcher() takes 1 positional argument but 2 were given"
     ]
    }
   ],
   "source": [
    "def compute_van_rossum_dist(original_spikes,poisson_spikes):\n",
    "    dist_lst=[]\n",
    "    for sim_neuron in poisson_spikes:\n",
    "        #print(original_spikes)\n",
    "        #print(poisson_spikes[0])\n",
    "        #print(van_rossum_dist([original_spikes,sim_neuron]))\n",
    "        dist_lst.append(van_rossum_dist([original_spikes,sim_neuron])[0,1])\n",
    "    closest_neurons=np.argsort(dist_lst)\n",
    "    colors=['C{}'.format(i) for i in range(5)]\n",
    "    lst=[original_spikes]\n",
    "    for j in range(0,5):\n",
    "        lst.append()\n",
    "    plt.eventplot(lst_,lineoffsets=[0,1,2,3,4],colors=colors)\n",
    "    plt.show()\n",
    "    return dist_lst, closest_neuron\n",
    "\n",
    "compute_van_rossum_dist(train,poisson_spikes)"
   ]
  },
  {
   "cell_type": "markdown",
   "metadata": {},
   "source": [
    "# Analyzing real data"
   ]
  },
  {
   "cell_type": "code",
   "execution_count": null,
   "metadata": {},
   "outputs": [],
   "source": []
  },
  {
   "cell_type": "code",
   "execution_count": null,
   "metadata": {},
   "outputs": [],
   "source": []
  }
 ],
 "metadata": {
  "kernelspec": {
   "display_name": "Python 3",
   "language": "python",
   "name": "python3"
  },
  "language_info": {
   "codemirror_mode": {
    "name": "ipython",
    "version": 3
   },
   "file_extension": ".py",
   "mimetype": "text/x-python",
   "name": "python",
   "nbconvert_exporter": "python",
   "pygments_lexer": "ipython3",
   "version": "3.7.4"
  }
 },
 "nbformat": 4,
 "nbformat_minor": 4
}

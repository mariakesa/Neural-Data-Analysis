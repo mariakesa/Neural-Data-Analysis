{
 "cells": [
  {
   "cell_type": "code",
   "execution_count": 1,
   "metadata": {},
   "outputs": [],
   "source": [
    "import nilearn"
   ]
  },
  {
   "cell_type": "code",
   "execution_count": 2,
   "metadata": {
    "scrolled": true
   },
   "outputs": [
    {
     "ename": "AttributeError",
     "evalue": "module 'nilearn.datasets' has no attribute 'fetch_openneuro_dataset'",
     "output_type": "error",
     "traceback": [
      "\u001b[0;31m---------------------------------------------------------------------------\u001b[0m",
      "\u001b[0;31mAttributeError\u001b[0m                            Traceback (most recent call last)",
      "\u001b[0;32m<ipython-input-2-1e72e1bdf9fa>\u001b[0m in \u001b[0;36m<module>\u001b[0;34m\u001b[0m\n\u001b[0;32m----> 1\u001b[0;31m \u001b[0mnilearn\u001b[0m\u001b[0;34m.\u001b[0m\u001b[0mdatasets\u001b[0m\u001b[0;34m.\u001b[0m\u001b[0mfetch_openneuro_dataset\u001b[0m\u001b[0;34m(\u001b[0m\u001b[0mdata_dir\u001b[0m\u001b[0;34m=\u001b[0m\u001b[0;34m'/media/maria/DATA1/Documents/fMRIData'\u001b[0m\u001b[0;34m)\u001b[0m\u001b[0;34m\u001b[0m\u001b[0;34m\u001b[0m\u001b[0m\n\u001b[0m",
      "\u001b[0;31mAttributeError\u001b[0m: module 'nilearn.datasets' has no attribute 'fetch_openneuro_dataset'"
     ]
    }
   ],
   "source": [
    "nilearn.datasets.fetch_openneuro_dataset(data_dir='/media/maria/DATA1/Documents/fMRIData')"
   ]
  },
  {
   "cell_type": "code",
   "execution_count": 5,
   "metadata": {
    "scrolled": true
   },
   "outputs": [
    {
     "name": "stdout",
     "output_type": "stream",
     "text": [
      "\n",
      "Dataset created in /media/maria/DATA1/Documents/fMRIData/haxby2001\n",
      "\n",
      "Downloading data from https://www.nitrc.org/frs/download.php/7868/mask.nii.gz ...\n"
     ]
    },
    {
     "name": "stderr",
     "output_type": "stream",
     "text": [
      "\r",
      "Downloaded 2969 of 2969 bytes (100.0%,    0.0s remaining) ...done. (2 seconds, 0 min)\n"
     ]
    },
    {
     "name": "stdout",
     "output_type": "stream",
     "text": [
      "Downloading data from http://data.pymvpa.org/datasets/haxby2001/MD5SUMS ...\n"
     ]
    },
    {
     "name": "stderr",
     "output_type": "stream",
     "text": [
      "\r",
      "Downloaded 408 of 408 bytes (100.0%,    0.0s remaining) ...done. (1 seconds, 0 min)\n"
     ]
    },
    {
     "name": "stdout",
     "output_type": "stream",
     "text": [
      "Downloading data from http://data.pymvpa.org/datasets/haxby2001/subj2-2010.01.14.tar.gz ...\n"
     ]
    },
    {
     "name": "stderr",
     "output_type": "stream",
     "text": [
      "Downloaded 291168628 of 291168628 bytes (100.0%,    0.0s remaining) ...done. (109 seconds, 1 min)\n",
      "Extracting data from /media/maria/DATA1/Documents/fMRIData/haxby2001/f33ff337e914bf7fded743c7107979f9/subj2-2010.01.14.tar.gz..... done.\n"
     ]
    }
   ],
   "source": [
    "haxby_dataset = nilearn.datasets.fetch_haxby(data_dir='/media/maria/DATA1/Documents/fMRIData')"
   ]
  },
  {
   "cell_type": "code",
   "execution_count": 6,
   "metadata": {
    "scrolled": true
   },
   "outputs": [
    {
     "name": "stdout",
     "output_type": "stream",
     "text": [
      "{'anat': ['/media/maria/DATA1/Documents/fMRIData/haxby2001/subj2/anat.nii.gz'], 'func': ['/media/maria/DATA1/Documents/fMRIData/haxby2001/subj2/bold.nii.gz'], 'session_target': ['/media/maria/DATA1/Documents/fMRIData/haxby2001/subj2/labels.txt'], 'mask_vt': ['/media/maria/DATA1/Documents/fMRIData/haxby2001/subj2/mask4_vt.nii.gz'], 'mask_face': ['/media/maria/DATA1/Documents/fMRIData/haxby2001/subj2/mask8b_face_vt.nii.gz'], 'mask_house': ['/media/maria/DATA1/Documents/fMRIData/haxby2001/subj2/mask8b_house_vt.nii.gz'], 'mask_face_little': ['/media/maria/DATA1/Documents/fMRIData/haxby2001/subj2/mask8_face_vt.nii.gz'], 'mask_house_little': ['/media/maria/DATA1/Documents/fMRIData/haxby2001/subj2/mask8_house_vt.nii.gz'], 'mask': '/media/maria/DATA1/Documents/fMRIData/haxby2001/mask.nii.gz', 'description': b'Haxby 2001 results\\r\\n\\r\\n\\r\\nNotes\\r\\n-----\\r\\nResults from a classical fMRI study that investigated the differences between\\r\\nthe neural correlates of face versus object processing in the ventral visual\\r\\nstream. Face and object stimuli showed widely distributed and overlapping\\r\\nresponse patterns.\\r\\n\\r\\nContent\\r\\n-------\\r\\nThe \"simple\" dataset includes\\r\\n    :\\'func\\': Nifti images with bold data\\r\\n    :\\'session_target\\': Text file containing session data\\r\\n    :\\'mask\\': Nifti images with employed mask\\r\\n    :\\'session\\': Text file with condition labels\\r\\n\\r\\n\\r\\nThe full dataset additionally includes\\r\\n    :\\'anat\\': Nifti images with anatomical image\\r\\n    :\\'func\\': Nifti images with bold data\\r\\n    :\\'mask_vt\\': Nifti images with mask for ventral visual/temporal cortex\\r\\n    :\\'mask_face\\': Nifti images with face-reponsive brain regions\\r\\n    :\\'mask_house\\': Nifti images with house-reponsive brain regions\\r\\n    :\\'mask_face_little\\': Spatially more constrained version of the above\\r\\n    :\\'mask_house_little\\': Spatially more constrained version of the above\\r\\n\\r\\n\\r\\nReferences\\r\\n----------\\r\\nFor more information see:\\r\\nPyMVPA provides a tutorial using this dataset :\\r\\nhttp://www.pymvpa.org/tutorial.html\\r\\n\\r\\nMore informations about its structure :\\r\\nhttp://dev.pymvpa.org/datadb/haxby2001.html\\r\\n\\r\\n\\r\\n`Haxby, J., Gobbini, M., Furey, M., Ishai, A., Schouten, J.,\\r\\nand Pietrini, P. (2001). Distributed and overlapping representations of\\r\\nfaces and objects in ventral temporal cortex. Science 293, 2425-2430.`\\r\\n\\r\\n\\r\\nLicence: unknown.\\r\\n'}\n"
     ]
    }
   ],
   "source": [
    "print(haxby_dataset)"
   ]
  },
  {
   "cell_type": "code",
   "execution_count": 7,
   "metadata": {},
   "outputs": [
    {
     "name": "stdout",
     "output_type": "stream",
     "text": [
      "/media/maria/DATA1/Documents/fMRIData/haxby2001/subj2/anat.nii.gz\n"
     ]
    }
   ],
   "source": [
    "haxby_dat=haxby_dataset.anat[0]\n",
    "print(haxby_dat)"
   ]
  },
  {
   "cell_type": "code",
   "execution_count": 3,
   "metadata": {
    "scrolled": true
   },
   "outputs": [
    {
     "ename": "NameError",
     "evalue": "name 'fetch_openneuro_dataset_index' is not defined",
     "output_type": "error",
     "traceback": [
      "\u001b[0;31m---------------------------------------------------------------------------\u001b[0m",
      "\u001b[0;31mNameError\u001b[0m                                 Traceback (most recent call last)",
      "\u001b[0;32m<ipython-input-3-a1c2bfbe6461>\u001b[0m in \u001b[0;36m<module>\u001b[0;34m\u001b[0m\n\u001b[0;32m----> 1\u001b[0;31m \u001b[0m_\u001b[0m\u001b[0;34m,\u001b[0m \u001b[0murls\u001b[0m \u001b[0;34m=\u001b[0m \u001b[0mfetch_openneuro_dataset_index\u001b[0m\u001b[0;34m(\u001b[0m\u001b[0;34m)\u001b[0m\u001b[0;34m\u001b[0m\u001b[0;34m\u001b[0m\u001b[0m\n\u001b[0m",
      "\u001b[0;31mNameError\u001b[0m: name 'fetch_openneuro_dataset_index' is not defined"
     ]
    }
   ],
   "source": [
    "_, urls = fetch_openneuro_dataset_index()"
   ]
  }
 ],
 "metadata": {
  "kernelspec": {
   "display_name": "Python 3",
   "language": "python",
   "name": "python3"
  },
  "language_info": {
   "codemirror_mode": {
    "name": "ipython",
    "version": 3
   },
   "file_extension": ".py",
   "mimetype": "text/x-python",
   "name": "python",
   "nbconvert_exporter": "python",
   "pygments_lexer": "ipython3",
   "version": "3.7.7"
  }
 },
 "nbformat": 4,
 "nbformat_minor": 4
}
